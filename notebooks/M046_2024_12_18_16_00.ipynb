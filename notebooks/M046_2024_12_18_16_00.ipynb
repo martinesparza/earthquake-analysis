{
 "cells": [
  {
   "cell_type": "code",
   "execution_count": null,
   "metadata": {},
   "outputs": [],
   "source": [
    "%load_ext autoreload\n",
    "%autoreload 2\n",
    "\n",
    "import sys\n",
    "sys.path.append(\"../\")\n",
    "\n",
    "import pandas as pd\n",
    "import numpy as np\n",
    "import os\n",
    "\n",
    "import matplotlib.pyplot as plt\n",
    "import seaborn as sns\n",
    "import pyaldata as pyal\n",
    "\n",
    "from tools.dsp.preprocessing import preprocess\n",
    "import tools.viz.rasters as rt\n",
    "from tools.params import Params\n",
    "\n"
   ]
  },
  {
   "cell_type": "code",
   "execution_count": null,
   "metadata": {},
   "outputs": [],
   "source": [
    "# TODO: add example data to the repo and run on that\n",
    "data_dir = r\"C:\\data\\raw\\M044\\M044_2024_12_04_09_30\"\n",
    "fname = os.path.join(data_dir, \"M044_2024_12_04_09_30_pyaldata.mat\")"
   ]
  },
  {
   "cell_type": "code",
   "execution_count": null,
   "metadata": {},
   "outputs": [
    {
     "name": "stdout",
     "output_type": "stream",
     "text": [
      "field values_before_camera_trigger could not be converted to int.\n",
      "field idx_before_camera_trigger could not be converted to int.\n",
      "array field all_KSLabel could not be converted to int.\n"
     ]
    }
   ],
   "source": [
    "# load TrialData .mat file into a DataFrame\n",
    "df = pyal.mat2dataframe(fname, shift_idx_fields=True)"
   ]
  }
 ],
 "metadata": {
  "kernelspec": {
   "display_name": "earthquake-analysis-dAG31IpV-py3.12",
   "language": "python",
   "name": "python3"
  },
  "language_info": {
   "name": "python",
   "version": "3.12.6"
  }
 },
 "nbformat": 4,
 "nbformat_minor": 2
}
