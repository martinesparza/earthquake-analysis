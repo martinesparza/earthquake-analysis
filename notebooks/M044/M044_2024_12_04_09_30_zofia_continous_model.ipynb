{
 "cells": [
  {
   "cell_type": "markdown",
   "metadata": {},
   "source": [
    "## Mouse: M044"
   ]
  },
  {
   "cell_type": "markdown",
   "metadata": {},
   "source": [
    "Session: M044_2024_12_04_09_30"
   ]
  },
  {
   "cell_type": "code",
   "execution_count": 1,
   "metadata": {},
   "outputs": [],
   "source": [
    "# imports\n",
    "%load_ext autoreload\n",
    "%autoreload 2\n",
    "\n",
    "import sys\n",
    "sys.path.append(\"../../\")\n",
    "\n",
    "import pandas as pd\n",
    "import numpy as np\n",
    "import random\n",
    "import matplotlib.pyplot as plt\n",
    "from mpl_toolkits.mplot3d import Axes3D\n",
    "import os\n",
    "import mat73\n",
    "from IPython.display import display, Markdown\n",
    "\n",
    "import pyaldata as pyal\n",
    "import pylab\n",
    "from sklearn.decomposition import PCA\n",
    "from sklearn.cross_decomposition import CCA\n",
    "from tools.curbd import curbd\n",
    "import pylab\n",
    "import importlib\n",
    "\n",
    "from tools.dsp.preprocessing import preprocess\n",
    "from tools.rnn_and_curbd.RNN_functions import *\n",
    "\n",
    "np.random.seed(44)"
   ]
  },
  {
   "cell_type": "code",
   "execution_count": 2,
   "metadata": {},
   "outputs": [
    {
     "name": "stdout",
     "output_type": "stream",
     "text": [
      "field values_before_camera_trigger could not be converted to int.\n",
      "field idx_before_camera_trigger could not be converted to int.\n",
      "array field all_KSLabel could not be converted to int.\n"
     ]
    }
   ],
   "source": [
    "data_dir = \"/data/bnd-data/raw/M044/M044_2024_12_04_09_30\"\n",
    "mat_file = \"M044_2024_12_04_09_30_pyaldata.mat\"\n",
    "fname = os.path.join(data_dir, mat_file)\n",
    "\n",
    "df = pyal.mat2dataframe(fname, shift_idx_fields=True)\n",
    "mouse = mat_file.split('_')[0]"
   ]
  },
  {
   "cell_type": "code",
   "execution_count": null,
   "metadata": {},
   "outputs": [],
   "source": [
    "df_ = preprocess(df, only_trials=True)\n",
    "df_ = pyal.select_trials(df_, \"idx_trial_end > 30365\")  # Remove first 5 minutes because the switch was off\n",
    "\n",
    "# Separate columns of 'all_spikes' to M1 and Dls (dorsolateral striatum)\n",
    "brain_areas = [\"Dls_rates\", \"M1_rates\"]\n",
    "df_[\"M1_rates\"] = [df_[\"all_rates\"][i][:,300:] for i in range(len(df_))]\n",
    "df_[\"Dls_rates\"] = [df_[\"all_rates\"][i][:,0:300] for i in range(len(df_))]"
   ]
  }
 ],
 "metadata": {
  "kernelspec": {
   "display_name": "Python 3",
   "language": "python",
   "name": "python3"
  },
  "language_info": {
   "codemirror_mode": {
    "name": "ipython",
    "version": 3
   },
   "file_extension": ".py",
   "mimetype": "text/x-python",
   "name": "python",
   "nbconvert_exporter": "python",
   "pygments_lexer": "ipython3",
   "version": "3.13.2"
  }
 },
 "nbformat": 4,
 "nbformat_minor": 2
}
