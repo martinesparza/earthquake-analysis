{
 "cells": [
  {
   "cell_type": "markdown",
   "id": "50f52634",
   "metadata": {},
   "source": [
    "# Mouse: M044\n",
    "## Session: 2024_12_04_09_30"
   ]
  },
  {
   "cell_type": "code",
   "execution_count": null,
   "id": "3ff231d3",
   "metadata": {
    "vscode": {
     "languageId": "plaintext"
    }
   },
   "outputs": [],
   "source": []
  },
  {
   "cell_type": "code",
   "execution_count": null,
   "id": "f030302f",
   "metadata": {
    "vscode": {
     "languageId": "plaintext"
    }
   },
   "outputs": [],
   "source": [
    "import pandas as pd\n",
    "import numpy as np\n",
    "import matplotlib.pyplot as plt\n",
    "import sys\n",
    "import os\n",
    "import pyaldata\n",
    "from collections import Counter\n",
    "import importlib\n",
    "\n",
    "from sklearn.decomposition import PCA\n",
    "from sklearn.cross_decomposition import CCA\n",
    "from sklearn.preprocessing import MinMaxScaler, StandardScaler\n",
    "\n",
    "# for CURBD\n",
    "import curbd\n",
    "import pylab\n",
    "from RNN_and_CURBD_analysis import RNN_functions\n",
    "from RNN_and_CURBD_analysis.RNN_functions import *\n",
    "\n",
    "importlib.reload(RNN_functions)\n",
    "\n",
    "np.random.seed(46)"
   ]
  },
  {
   "cell_type": "markdown",
   "id": "3a1c278a",
   "metadata": {},
   "source": []
  }
 ],
 "metadata": {
  "language_info": {
   "name": "python"
  }
 },
 "nbformat": 4,
 "nbformat_minor": 5
}
