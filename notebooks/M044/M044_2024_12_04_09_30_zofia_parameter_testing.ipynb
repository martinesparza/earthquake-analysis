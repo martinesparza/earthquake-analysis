{
 "cells": [
  {
   "cell_type": "markdown",
   "metadata": {},
   "source": [
    "## Mouse 🐁 : M044"
   ]
  },
  {
   "cell_type": "markdown",
   "metadata": {},
   "source": [
    "Session: M044_2024_12_04_09_30"
   ]
  },
  {
   "cell_type": "markdown",
   "metadata": {},
   "source": [
    "## Tuning parameters for optimal RNN training"
   ]
  },
  {
   "cell_type": "code",
   "execution_count": 16,
   "metadata": {},
   "outputs": [
    {
     "name": "stdout",
     "output_type": "stream",
     "text": [
      "The autoreload extension is already loaded. To reload it, use:\n",
      "  %reload_ext autoreload\n"
     ]
    }
   ],
   "source": [
    "# imports\n",
    "%load_ext autoreload\n",
    "%autoreload 2\n",
    "\n",
    "import sys\n",
    "sys.path.append(\"../../\")\n",
    "\n",
    "import pandas as pd\n",
    "import numpy as np\n",
    "import random\n",
    "import matplotlib.pyplot as plt\n",
    "from mpl_toolkits.mplot3d import Axes3D\n",
    "import os\n",
    "import mat73\n",
    "from IPython.display import display, Markdown\n",
    "\n",
    "import pyaldata as pyal\n",
    "import pylab\n",
    "from sklearn.decomposition import PCA\n",
    "from sklearn.cross_decomposition import CCA\n",
    "from tools.curbd import curbd\n",
    "import pylab\n",
    "import importlib\n",
    "\n",
    "from tools.dsp.preprocessing import preprocess\n",
    "from tools.rnn_and_curbd.RNN_functions import *\n",
    "\n",
    "np.random.seed(44)"
   ]
  },
  {
   "cell_type": "markdown",
   "metadata": {},
   "source": [
    "#### Importing file"
   ]
  },
  {
   "cell_type": "code",
   "execution_count": 17,
   "metadata": {},
   "outputs": [
    {
     "name": "stdout",
     "output_type": "stream",
     "text": [
      "field values_before_camera_trigger could not be converted to int.\n",
      "field idx_before_camera_trigger could not be converted to int.\n",
      "array field all_KSLabel could not be converted to int.\n"
     ]
    }
   ],
   "source": [
    "data_dir = \"/data/bnd-data/raw/M044/M044_2024_12_04_09_30\"\n",
    "mat_file = \"M044_2024_12_04_09_30_pyaldata.mat\"\n",
    "fname = os.path.join(data_dir, mat_file)\n",
    "\n",
    "df = pyal.mat2dataframe(fname, shift_idx_fields=True)\n",
    "mouse = mat_file.split('_')[0]"
   ]
  },
  {
   "cell_type": "markdown",
   "metadata": {},
   "source": [
    "#### Preprocessing"
   ]
  },
  {
   "cell_type": "code",
   "execution_count": 18,
   "metadata": {},
   "outputs": [
    {
     "name": "stderr",
     "output_type": "stream",
     "text": [
      "/home/zms24/.conda/envs/zofia_earthquake_env/earthquake-analysis/PyalData/pyaldata/firing_rates.py:108: UserWarning: Assuming spikes are actually spikes and dividing by bin size.\n",
      "  utils.warnings.warn(\n"
     ]
    },
    {
     "name": "stdout",
     "output_type": "stream",
     "text": [
      "Combined every 3 bins\n",
      "Resulting all_spikes ephys data shape is (NxT): (474, 133)\n"
     ]
    }
   ],
   "source": [
    "df_ = preprocess(df, only_trials=True)\n",
    "df_ = pyal.select_trials(df_, \"idx_trial_end > 30365\")  # Remove first 5 minutes because the switch was off\n",
    "\n",
    "# if you dont want to run it on all trials\n",
    "# df_ = pyal.select_trials(df_, f\"values_Sol_direction < 4\") "
   ]
  },
  {
   "cell_type": "markdown",
   "metadata": {},
   "source": [
    "#### Seperate regions"
   ]
  },
  {
   "cell_type": "code",
   "execution_count": 19,
   "metadata": {},
   "outputs": [],
   "source": [
    "# Separate columns of 'all_spikes' to M1 and Dls (dorsolateral striatum)\n",
    "brain_areas = [\"Dls_rates\", \"M1_rates\"]\n",
    "df_[\"M1_rates\"] = [df_[\"all_rates\"][i][:,300:] for i in range(len(df_))]\n",
    "df_[\"Dls_rates\"] = [df_[\"all_rates\"][i][:,0:300] for i in range(len(df_))]"
   ]
  },
  {
   "cell_type": "markdown",
   "metadata": {},
   "source": [
    "#### Variables"
   ]
  },
  {
   "cell_type": "code",
   "execution_count": 20,
   "metadata": {},
   "outputs": [
    {
     "name": "stdout",
     "output_type": "stream",
     "text": [
      "Number of trials: 493\n"
     ]
    }
   ],
   "source": [
    "# perturbation time\n",
    "perturbation_time = df_.idx_sol_on[0]\n",
    "perturbation_time_seconds = perturbation_time * df_.bin_size[0]\n",
    "\n",
    "# solenoid angles\n",
    "sol_angles: list = df_.values_Sol_direction.unique()\n",
    "sol_angles.sort()\n",
    "\n",
    "# number of trials\n",
    "num_trials = len(df_)\n",
    "print(f\"Number of trials: {num_trials}\")"
   ]
  },
  {
   "cell_type": "markdown",
   "metadata": {},
   "source": [
    "#### Concat trials in time"
   ]
  },
  {
   "cell_type": "code",
   "execution_count": 21,
   "metadata": {},
   "outputs": [],
   "source": [
    "concat_trials = pyal.concat_trials(df_, signal = \"all_rates\")"
   ]
  },
  {
   "cell_type": "markdown",
   "metadata": {},
   "source": [
    "## RNN training loop"
   ]
  },
  {
   "cell_type": "code",
   "execution_count": null,
   "metadata": {},
   "outputs": [
    {
     "name": "stdout",
     "output_type": "stream",
     "text": [
      "trial=0 pVar=-170.984867 chi2=65440.060051\n",
      "Invalid model generated\n",
      "Model with parameters:\n",
      "dtFactor: 1, tauRNN: 0.01, ampInWN: 0.0001\n",
      "Model final accuracy: pVar=-170.98486670997679, chi2=65440.060050682965\n",
      "\n",
      "trial=0 pVar=-170.980357 chi2=65438.368458\n",
      "Invalid model generated\n",
      "Model with parameters:\n",
      "dtFactor: 1, tauRNN: 0.01, ampInWN: 0.001\n",
      "Model final accuracy: pVar=-170.98035748112758, chi2=65438.36845819984\n",
      "\n",
      "trial=0 pVar=-170.180358 chi2=65133.238126\n",
      "Invalid model generated\n",
      "Model with parameters:\n",
      "dtFactor: 1, tauRNN: 0.05, ampInWN: 0.0001\n",
      "Model final accuracy: pVar=-170.18035814064396, chi2=65133.23812596097\n",
      "\n",
      "trial=0 pVar=-170.643226 chi2=65309.397938\n",
      "Invalid model generated\n",
      "Model with parameters:\n",
      "dtFactor: 1, tauRNN: 0.05, ampInWN: 0.001\n",
      "Model final accuracy: pVar=-170.64322641868293, chi2=65309.39793758821\n",
      "\n",
      "trial=0 pVar=-168.650219 chi2=64550.921396\n",
      "Invalid model generated\n",
      "Model with parameters:\n",
      "dtFactor: 1, tauRNN: 0.1, ampInWN: 0.0001\n",
      "Model final accuracy: pVar=-168.65021897276824, chi2=64550.92139587365\n",
      "\n",
      "trial=0 pVar=-169.769614 chi2=64976.756586\n",
      "Invalid model generated\n",
      "Model with parameters:\n",
      "dtFactor: 1, tauRNN: 0.1, ampInWN: 0.001\n",
      "Model final accuracy: pVar=-169.769614038612, chi2=64976.75658580188\n",
      "\n",
      "Model with parameters:\n",
      "dtFactor: 1, tauRNN: 0.2, ampInWN: 0.0001\n",
      "Model final accuracy: pVar=0.4832176065008853, chi2=199.02117171113363\n",
      "\n",
      "Model with parameters:\n",
      "dtFactor: 1, tauRNN: 0.2, ampInWN: 0.001\n",
      "Model final accuracy: pVar=0.4829042710183472, chi2=199.13856105116028\n",
      "\n",
      "Model with parameters:\n",
      "dtFactor: 1, tauRNN: 0.3, ampInWN: 0.0001\n",
      "Model final accuracy: pVar=0.4885313839711073, chi2=196.62936468977003\n",
      "\n",
      "Model with parameters:\n",
      "dtFactor: 1, tauRNN: 0.3, ampInWN: 0.001\n",
      "Model final accuracy: pVar=0.4881717916910223, chi2=196.7580275540945\n",
      "\n",
      "trial=0 pVar=-170.109465 chi2=65105.871382\n",
      "Invalid model generated\n",
      "Model with parameters:\n",
      "dtFactor: 2, tauRNN: 0.01, ampInWN: 0.0001\n",
      "Model final accuracy: pVar=-170.10946455066974, chi2=65105.87138208361\n",
      "\n",
      "trial=0 pVar=-171.536071 chi2=65648.751930\n",
      "Invalid model generated\n",
      "Model with parameters:\n",
      "dtFactor: 2, tauRNN: 0.01, ampInWN: 0.001\n",
      "Model final accuracy: pVar=-171.53607081143716, chi2=65648.75193003929\n",
      "\n",
      "trial=7 pVar=-112.739860 chi2=43278.482475\n",
      "Invalid model generated\n",
      "Model with parameters:\n",
      "dtFactor: 2, tauRNN: 0.05, ampInWN: 0.0001\n",
      "Model final accuracy: pVar=-112.73985983182517, chi2=43278.482474895274\n",
      "\n",
      "trial=6 pVar=-30.590803 chi2=12022.567101\n",
      "Invalid model generated\n",
      "Model with parameters:\n",
      "dtFactor: 2, tauRNN: 0.05, ampInWN: 0.001\n",
      "Model final accuracy: pVar=-30.590802565007273, chi2=12022.567101168055\n",
      "\n",
      "Model with parameters:\n",
      "dtFactor: 2, tauRNN: 0.1, ampInWN: 0.0001\n",
      "Model final accuracy: pVar=0.48093253239609357, chi2=200.15795295182215\n",
      "\n",
      "Model with parameters:\n",
      "dtFactor: 2, tauRNN: 0.1, ampInWN: 0.001\n",
      "Model final accuracy: pVar=0.4809505114957283, chi2=200.13088654729833\n",
      "\n",
      "Model with parameters:\n",
      "dtFactor: 2, tauRNN: 0.2, ampInWN: 0.0001\n",
      "Model final accuracy: pVar=0.48845384019842786, chi2=196.80876749161524\n",
      "\n",
      "Model with parameters:\n",
      "dtFactor: 2, tauRNN: 0.2, ampInWN: 0.001\n",
      "Model final accuracy: pVar=0.48660009784947855, chi2=197.50469211837637\n",
      "\n",
      "Model with parameters:\n",
      "dtFactor: 2, tauRNN: 0.3, ampInWN: 0.0001\n",
      "Model final accuracy: pVar=0.4913056260902797, chi2=195.41823913658519\n",
      "\n",
      "Model with parameters:\n",
      "dtFactor: 2, tauRNN: 0.3, ampInWN: 0.001\n",
      "Model final accuracy: pVar=0.49131964951384, chi2=195.4074175432333\n",
      "\n",
      "trial=0 pVar=-171.300085 chi2=65559.417753\n",
      "Invalid model generated\n",
      "Model with parameters:\n",
      "dtFactor: 3, tauRNN: 0.01, ampInWN: 0.0001\n",
      "Model final accuracy: pVar=-171.3000845203932, chi2=65559.4177526817\n",
      "\n",
      "trial=0 pVar=-171.290436 chi2=65555.710191\n",
      "Invalid model generated\n",
      "Model with parameters:\n",
      "dtFactor: 3, tauRNN: 0.01, ampInWN: 0.001\n",
      "Model final accuracy: pVar=-171.29043560120172, chi2=65555.71019079036\n",
      "\n",
      "Model with parameters:\n",
      "dtFactor: 3, tauRNN: 0.05, ampInWN: 0.0001\n",
      "Model final accuracy: pVar=0.47419655491196633, chi2=202.98025494221912\n",
      "\n"
     ]
    }
   ],
   "source": [
    "dtFactors = [1, 2, 3, 4, 5, 6]\n",
    "tauRNNs = [0.01, 0.05, 0.1, 0.2, 0.3]\n",
    "ampInWNs = [0.0001, 0.001]\n",
    "\n",
    "rnn_models = []\n",
    "\n",
    "for dtFactor in dtFactors:\n",
    "    reset_points, trial_len = get_reset_points(df_, concat_trials, brain_areas, dtFactor)\n",
    "    activity = np.transpose(concat_trials)\n",
    "    regions = get_regions(df_, brain_areas)\n",
    "\n",
    "    for tauRNN in tauRNNs:\n",
    "        for ampInWN in ampInWNs:\n",
    "                rnn_model = RNN(activity, reset_points, regions, df_, mouse, graph=False,\n",
    "                dtFactor = dtFactor, ampInWN= ampInWN, tauRNN = tauRNN, nRunTrain=20) # 20 should be suffucient to get a good estimate of the parameters\n",
    "                params = [dtFactor, tauRNN, ampInWN, trial_len, reset_points]\n",
    "                result = [params, rnn_model]\n",
    "                \n",
    "                # Print results\n",
    "                print(f\"Model with parameters:\")\n",
    "                print(f\"dtFactor: {dtFactor}, tauRNN: {tauRNN}, ampInWN: {ampInWN}\")\n",
    "                print(f\"Model final accuracy: pVar={rnn_model['pVars'][-1]}, chi2={rnn_model['chi2s'][-1]}\\n\")\n",
    "\n",
    "                # Save the model\n",
    "                params = [dtFactor, tauRNN, ampInWN, trial_len, reset_points]\n",
    "                result = [params, rnn_model]\n",
    "                rnn_models.append(result)\n"
   ]
  },
  {
   "cell_type": "markdown",
   "metadata": {},
   "source": [
    "#### Organizing RNN training results"
   ]
  }
 ],
 "metadata": {
  "kernelspec": {
   "display_name": "Python 3",
   "language": "python",
   "name": "python3"
  },
  "language_info": {
   "codemirror_mode": {
    "name": "ipython",
    "version": 3
   },
   "file_extension": ".py",
   "mimetype": "text/x-python",
   "name": "python",
   "nbconvert_exporter": "python",
   "pygments_lexer": "ipython3",
   "version": "3.13.2"
  }
 },
 "nbformat": 4,
 "nbformat_minor": 2
}
