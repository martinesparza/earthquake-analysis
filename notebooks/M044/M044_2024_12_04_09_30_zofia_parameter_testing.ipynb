{
 "cells": [
  {
   "cell_type": "markdown",
   "metadata": {},
   "source": [
    "## Mouse 🐁 : M044"
   ]
  },
  {
   "cell_type": "markdown",
   "metadata": {},
   "source": [
    "Session: M044_2024_12_04_09_30"
   ]
  },
  {
   "cell_type": "markdown",
   "metadata": {},
   "source": [
    "## Tuning parameters for optimal RNN training"
   ]
  },
  {
   "cell_type": "code",
   "execution_count": 1,
   "metadata": {},
   "outputs": [],
   "source": [
    "# imports\n",
    "%load_ext autoreload\n",
    "%autoreload 2\n",
    "\n",
    "import sys\n",
    "sys.path.append(\"../../\")\n",
    "\n",
    "import pandas as pd\n",
    "import numpy as np\n",
    "import random\n",
    "import matplotlib.pyplot as plt\n",
    "from mpl_toolkits.mplot3d import Axes3D\n",
    "import os\n",
    "import mat73\n",
    "from IPython.display import display, Markdown\n",
    "\n",
    "import pyaldata as pyal\n",
    "import pylab\n",
    "from sklearn.decomposition import PCA\n",
    "from sklearn.cross_decomposition import CCA\n",
    "from tools.curbd import curbd\n",
    "import pylab\n",
    "import importlib\n",
    "\n",
    "from tools.dsp.preprocessing import preprocess\n",
    "from tools.rnn_and_curbd.RNN_functions import *\n",
    "\n",
    "np.random.seed(44)"
   ]
  },
  {
   "cell_type": "markdown",
   "metadata": {},
   "source": [
    "#### Importing file"
   ]
  },
  {
   "cell_type": "code",
   "execution_count": 2,
   "metadata": {},
   "outputs": [
    {
     "name": "stdout",
     "output_type": "stream",
     "text": [
      "field values_before_camera_trigger could not be converted to int.\n",
      "field idx_before_camera_trigger could not be converted to int.\n",
      "array field all_KSLabel could not be converted to int.\n"
     ]
    }
   ],
   "source": [
    "data_dir = \"/data/bnd-data/raw/M044/M044_2024_12_04_09_30\"\n",
    "mat_file = \"M044_2024_12_04_09_30_pyaldata.mat\"\n",
    "fname = os.path.join(data_dir, mat_file)\n",
    "\n",
    "df = pyal.mat2dataframe(fname, shift_idx_fields=True)\n",
    "mouse = mat_file.split('_')[0]"
   ]
  },
  {
   "cell_type": "markdown",
   "metadata": {},
   "source": [
    "#### Preprocessing"
   ]
  },
  {
   "cell_type": "code",
   "execution_count": 3,
   "metadata": {},
   "outputs": [
    {
     "name": "stderr",
     "output_type": "stream",
     "text": [
      "/home/zms24/.conda/envs/zofia_earthquake_env/earthquake-analysis/PyalData/pyaldata/firing_rates.py:108: UserWarning: Assuming spikes are actually spikes and dividing by bin size.\n",
      "  utils.warnings.warn(\n"
     ]
    },
    {
     "name": "stdout",
     "output_type": "stream",
     "text": [
      "Combined every 3 bins\n",
      "Resulting all_spikes ephys data shape is (NxT): (474, 133)\n"
     ]
    }
   ],
   "source": [
    "df_ = preprocess(df, only_trials=True)\n",
    "df_ = pyal.select_trials(df_, \"idx_trial_end > 30365\")  # Remove first 5 minutes because the switch was off\n",
    "\n",
    "# if you dont want to run it on all trials\n",
    "df_ = pyal.select_trials(df_, f\"values_Sol_direction < 5\") "
   ]
  },
  {
   "cell_type": "markdown",
   "metadata": {},
   "source": [
    "#### Seperate regions"
   ]
  },
  {
   "cell_type": "code",
   "execution_count": 4,
   "metadata": {},
   "outputs": [],
   "source": [
    "# Separate columns of 'all_spikes' to M1 and Dls (dorsolateral striatum)\n",
    "brain_areas = [\"Dls_rates\", \"M1_rates\"]\n",
    "df_[\"M1_rates\"] = [df_[\"all_rates\"][i][:,300:] for i in range(len(df_))]\n",
    "df_[\"Dls_rates\"] = [df_[\"all_rates\"][i][:,0:300] for i in range(len(df_))]"
   ]
  },
  {
   "cell_type": "markdown",
   "metadata": {},
   "source": [
    "#### Variables"
   ]
  },
  {
   "cell_type": "code",
   "execution_count": 5,
   "metadata": {},
   "outputs": [
    {
     "name": "stdout",
     "output_type": "stream",
     "text": [
      "Number of trials: 226\n"
     ]
    }
   ],
   "source": [
    "# perturbation time\n",
    "perturbation_time = df_.idx_sol_on[0]\n",
    "perturbation_time_seconds = perturbation_time * df_.bin_size[0]\n",
    "\n",
    "# solenoid angles\n",
    "sol_angles: list = df_.values_Sol_direction.unique()\n",
    "sol_angles.sort()\n",
    "\n",
    "# number of trials\n",
    "num_trials = len(df_)\n",
    "print(f\"Number of trials: {num_trials}\")"
   ]
  },
  {
   "cell_type": "markdown",
   "metadata": {},
   "source": [
    "#### Concat trials in time"
   ]
  },
  {
   "cell_type": "code",
   "execution_count": 6,
   "metadata": {},
   "outputs": [],
   "source": [
    "concat_trials = pyal.concat_trials(df_, signal = \"all_rates\")"
   ]
  },
  {
   "cell_type": "markdown",
   "metadata": {},
   "source": [
    "## RNN training loop"
   ]
  },
  {
   "cell_type": "code",
   "execution_count": null,
   "metadata": {},
   "outputs": [],
   "source": [
    "dtFactors = [1, 2, 3, 4, 5]\n",
    "tauRNNs = [0.2, 0.3]\n",
    "ampInWNs = [0.001, 0.01]\n",
    "\n",
    "rnn_models = []\n",
    "\n",
    "for dtFactor in dtFactors:\n",
    "    reset_points, trial_len = get_reset_points(df_, concat_trials, brain_areas, dtFactor)\n",
    "    activity = np.transpose(concat_trials)\n",
    "    regions = get_regions(df_, brain_areas)\n",
    "\n",
    "    for tauRNN in tauRNNs:\n",
    "        for ampInWN in ampInWNs:\n",
    "                rnn_model = RNN(activity, reset_points, regions, df_, mouse, graph=False,\n",
    "                dtFactor = dtFactor, ampInWN= ampInWN, tauRNN = tauRNN, nRunTrain=20) # 20 should be suffucient to get a good estimate of the parameters\n",
    "                params = [dtFactor, tauRNN, ampInWN, trial_len, reset_points]\n",
    "                result = [params, rnn_model]\n",
    "                \n",
    "                # Print results\n",
    "                print(f\"Model with parameters:\")\n",
    "                print(f\"dtFactor: {dtFactor}, tauRNN: {tauRNN}, ampInWN: {ampInWN}\")\n",
    "                print(f\"Model final accuracy: pVar={rnn_model['pVars'][-1]}, chi2={rnn_model['chi2s'][-1]}\\n\")\n",
    "\n",
    "                # Save the model\n",
    "                params = [dtFactor, tauRNN, ampInWN, trial_len, reset_points]\n",
    "                result = [params, rnn_model]\n",
    "                rnn_models.append(result)\n"
   ]
  },
  {
   "cell_type": "markdown",
   "metadata": {},
   "source": [
    "#### Organizing RNN training results"
   ]
  },
  {
   "cell_type": "code",
   "execution_count": null,
   "metadata": {},
   "outputs": [],
   "source": [
    "for model in rnn_models:\n",
    "    params, rnn_model = model\n",
    "    dtFactor, tauRNN, ampInWN, trial_len, reset_points = params\n",
    "    print(f\"Model with parameters:\")\n",
    "    print(f\"dtFactor: {dtFactor}, tauRNN: {tauRNN}, ampInWN: {ampInWN}\")\n",
    "    print(f\"Model final accuracy: pVar={rnn_model['pVars'][-1]}, chi2={rnn_model['chi2s'][-1]}\\n\")\n",
    "\n",
    "    PCA_fig = PCA_by_region(concat_trials, rnn_model, regions, num_trials, mouse)\n",
    "\n",
    "    curbd_arr, curbd_labels = curbd.computeCURBD(rnn_model)\n",
    "    n_regions = curbd_arr.shape[0]  \n",
    "\n",
    "    all_currents, all_currents_labels = format_for_plotting(curbd_arr, curbd_labels, n_regions, reset_points)\n",
    "\n",
    "    avg_currents_fig = plot_all_currents_seperate(all_currents, all_currents_labels, perturbation_time_seconds, df_.bin_size[0], dtFactor, mouse, plot_single = False)"
   ]
  },
  {
   "cell_type": "code",
   "execution_count": null,
   "metadata": {},
   "outputs": [],
   "source": [
    "column_names = [\"model_idx\", \"binSize\", \"dtFactor\", \"tauRNN\", \"ampInWN\", \"pVar\", \"chi2\"]\n",
    "model_df = pd.DataFrame(columns=column_names)\n",
    "\n",
    "for i, model in enumerate(rnn_models):\n",
    "    params, rnn_model = model\n",
    "    dtFactor, tauRNN, ampInWN, trial_len, reset_points = params\n",
    "    pVar = rnn_model['pVars'][-1]\n",
    "    chi2 = rnn_model['chi2s'][-1]\n",
    "\n",
    "    model_df.loc[i] = [i, df_.bin_size[0], dtFactor, tauRNN, ampInWN, pVar, chi2]"
   ]
  },
  {
   "cell_type": "code",
   "execution_count": null,
   "metadata": {},
   "outputs": [],
   "source": [
    "fig = plt.figure(figsize=(12, 6))\n",
    "\n",
    "for i, metric in enumerate(['pVar', 'chi2']):\n",
    "    ax = fig.add_subplot(1, 2, i+1, projection='3d')\n",
    "    ax.scatter(model_df['dtFactor'], model_df['tauRNN'], model_df[\"ampInWN\"], c=df[metric], cmap='viridis')\n",
    "\n",
    "    ax.set_xlabel(\"dtFactor\")\n",
    "    ax.set_ylabel(\"tauRNN\")\n",
    "    ax.set_zlabel(\"ampInWN\")\n",
    "    ax.set_title(f\"3D Scatter Plot - {metric}\")"
   ]
  }
 ],
 "metadata": {
  "kernelspec": {
   "display_name": "Python 3",
   "language": "python",
   "name": "python3"
  },
  "language_info": {
   "codemirror_mode": {
    "name": "ipython",
    "version": 3
   },
   "file_extension": ".py",
   "mimetype": "text/x-python",
   "name": "python",
   "nbconvert_exporter": "python",
   "pygments_lexer": "ipython3",
   "version": "3.13.2"
  }
 },
 "nbformat": 4,
 "nbformat_minor": 2
}
