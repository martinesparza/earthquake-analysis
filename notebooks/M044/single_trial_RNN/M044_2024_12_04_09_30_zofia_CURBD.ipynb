{
 "cells": [
  {
   "cell_type": "markdown",
   "metadata": {},
   "source": [
    "## Training RNN network on single trial data"
   ]
  },
  {
   "cell_type": "code",
   "metadata": {
    "ExecuteTime": {
     "end_time": "2025-04-10T23:11:27.693663Z",
     "start_time": "2025-04-10T23:11:26.753630Z"
    }
   },
   "source": [
    "# imports\n",
    "%load_ext autoreload\n",
    "%autoreload 2\n",
    "\n",
    "import sys\n",
    "sys.path.append(\"../../\")\n",
    "\n",
    "import pandas as pd\n",
    "import numpy as np\n",
    "import random\n",
    "import matplotlib.pyplot as plt\n",
    "from mpl_toolkits.mplot3d import Axes3D\n",
    "import os\n",
    "import mat73\n",
    "from IPython.display import display, Markdown\n",
    "\n",
    "import pyaldata as pyal\n",
    "import pylab\n",
    "from sklearn.decomposition import PCA\n",
    "from sklearn.cross_decomposition import CCA\n",
    "from tools.curbd import curbd\n",
    "import pylab\n",
    "import importlib\n",
    "\n",
    "from tools.dsp.preprocessing import preprocess\n",
    "from tools.rnn_and_curbd.RNN_functions import *\n",
    "\n",
    "np.random.seed(44)"
   ],
   "outputs": [],
   "execution_count": 1
  },
  {
   "cell_type": "code",
   "metadata": {
    "ExecuteTime": {
     "end_time": "2025-04-10T23:11:27.708999Z",
     "start_time": "2025-04-10T23:11:27.696942Z"
    }
   },
   "source": [
    "# data_dir = \"/data/bnd-data/raw/M044/M044_2024_12_04_09_30\"\n",
    "# mat_file = \"M044_2024_12_04_09_30_pyaldata.mat\""
   ],
   "outputs": [],
   "execution_count": 2
  },
  {
   "metadata": {
    "ExecuteTime": {
     "end_time": "2025-04-10T23:11:36.999621Z",
     "start_time": "2025-04-10T23:11:27.745901Z"
    }
   },
   "cell_type": "code",
   "source": [
    "data_dir = \"/Users/zosiasus/Documents/M044/\"\n",
    "mat_file = \"M044_2024_12_04_09_30_pyaldata.mat\"\n",
    "fname = os.path.join(data_dir, mat_file)\n",
    "\n",
    "df = pyal.mat2dataframe(fname, shift_idx_fields=True)\n",
    "mouse = mat_file.split('_')[0]"
   ],
   "outputs": [
    {
     "name": "stdout",
     "output_type": "stream",
     "text": [
      "field values_before_camera_trigger could not be converted to int.\n",
      "field idx_before_camera_trigger could not be converted to int.\n",
      "array field all_KSLabel could not be converted to int.\n"
     ]
    }
   ],
   "execution_count": 3
  },
  {
   "cell_type": "markdown",
   "metadata": {},
   "source": [
    "## PREPROCESS DATAFRAME"
   ]
  },
  {
   "cell_type": "code",
   "metadata": {
    "ExecuteTime": {
     "end_time": "2025-04-10T23:11:39.686932Z",
     "start_time": "2025-04-10T23:11:37.264462Z"
    }
   },
   "source": [
    "df_ = preprocess(df, only_trials=True)\n",
    "df_ = pyal.select_trials(df_, \"idx_trial_end > 30365\")  # Remove first 5 minutes because the switch was off\n",
    "\n",
    "# Separate columns of 'all_spikes' to M1 and Dls (dorsolateral striatum)\n",
    "brain_areas = [\"Dls_rates\", \"M1_rates\"]\n",
    "df_[\"M1_rates\"] = [df_[\"all_rates\"][i][:,300:] for i in range(len(df_))]\n",
    "df_[\"Dls_rates\"] = [df_[\"all_rates\"][i][:,0:300] for i in range(len(df_))]"
   ],
   "outputs": [
    {
     "name": "stderr",
     "output_type": "stream",
     "text": [
      "/Users/zosiasus/PyalData/pyaldata/PyalData/pyaldata/firing_rates.py:108: UserWarning: Assuming spikes are actually spikes and dividing by bin size.\n",
      "  utils.warnings.warn(\n"
     ]
    },
    {
     "name": "stdout",
     "output_type": "stream",
     "text": [
      "Combined every 3 bins\n",
      "Resulting all_spikes ephys data shape is (NxT): (474, 133)\n"
     ]
    }
   ],
   "execution_count": 4
  },
  {
   "cell_type": "markdown",
   "metadata": {},
   "source": [
    "### useful variables"
   ]
  },
  {
   "cell_type": "code",
   "metadata": {
    "ExecuteTime": {
     "end_time": "2025-04-10T23:11:39.728221Z",
     "start_time": "2025-04-10T23:11:39.704026Z"
    }
   },
   "source": [
    "# perturbation time\n",
    "perturbation_time = df_.idx_sol_on[0]\n",
    "perturbation_time_seconds = perturbation_time * df_.bin_size[0]\n",
    "\n",
    "# solenoid angles\n",
    "sol_angles: list = df_.values_Sol_direction.unique()\n",
    "sol_angles.sort()\n"
   ],
   "outputs": [],
   "execution_count": 5
  },
  {
   "cell_type": "markdown",
   "metadata": {},
   "source": [
    "## RUN RNN AND CURBD FOR EVERY SOLENOID ANGLE"
   ]
  },
  {
   "cell_type": "code",
   "metadata": {
    "ExecuteTime": {
     "end_time": "2025-04-10T23:11:39.787414Z",
     "start_time": "2025-04-10T23:11:39.758844Z"
    }
   },
   "source": [
    "for angle in sol_angles:\n",
    "    print(f\"RUNNING RNN TRAINING AND CURBD FOR TRIAL OF TYPE: {angle}\")\n",
    "    # CHOOSE ONE TYPE OF TRIAL\n",
    "    angle_df = pyal.select_trials(df_, f\"values_Sol_direction == {angle}\")  \n",
    "\n",
    "    num_trials = len(angle_df)\n",
    "\n",
    "    # CONCATINATE IN TIME all trials \n",
    "    concat_trials = pyal.concat_trials(angle_df, signal = \"all_rates\")\n",
    "\n",
    "    # PREPARE FOR RNN\n",
    "    reset_points, trial_len = get_reset_points(angle_df, concat_trials, brain_areas)\n",
    "    activity = np.transpose(concat_trials)\n",
    "    regions = get_regions(angle_df, brain_areas)\n",
    "\n",
    "    print(f\"Building {len(regions)} region RNN network\")\n",
    "    print(f\"Regions: {[region[0] for region in regions]}\\n\")\n",
    "\n",
    "    # RNN TRAINING\n",
    "    rnn_model, rnn_accurancy_figure = RNN(activity, reset_points, regions, angle_df, mouse, \n",
    "                                                        dtFactor = 1, ampInWN= 0.01, tauRNN = 0.2, nRunTrain=100 )\n",
    "\n",
    "    # RNN ASSESMENT with PCA and CCA\n",
    "    scores, variance_figure, PCA_figure, CCA_figure = PCA_and_CCA(concat_trials, rnn_model, \n",
    "                                                                  num_components = 10, trial_num = num_trials, mouse_num = mouse, \n",
    "                                                                  printing=True)\n",
    "    \n",
    "    # CURBD\n",
    "    curbd_arr, curbd_labels = curbd.computeCURBD(rnn_model)\n",
    "    n_regions = curbd_arr.shape[0]\n",
    "\n",
    "    # PLOTTING CURBD\n",
    "    all_currents, all_currents_labels = format_for_plotting(curbd_arr, curbd_labels, n_regions, trial_len, \n",
    "                                                                          num_trials)\n",
    "    \n",
    "    region_currents_fig = plot_region_currents(all_currents, all_currents_labels, perturbation_time_seconds, \n",
    "                                                             angle_df.bin_size[0], num_trials, mouse, )\n",
    "\n",
    "    all_currents_fig = plot_all_currents(all_currents, all_currents_labels, perturbation_time_seconds, num_trials, \n",
    "                                                       angle_df.bin_size[0], mouse)\n",
    "    \n",
    "    # a bit of memory management :)\n",
    "    del angle_df, num_trials, concat_trials, reset_points, trial_len , activity, regions, rnn_model, curbd_arr, curbd_labels, n_regions, \n",
    "    all_currents, all_currents_labels, region_currents_fig, all_currents_fig\n",
    "    \n",
    "    print(f\"finished run for trial type: {angle}\\n\\n\")\n",
    "    \n",
    "    "
   ],
   "outputs": [
    {
     "name": "stdout",
     "output_type": "stream",
     "text": [
      "RUNNING RNN TRAINING AND CURBD FOR TRIAL OF TYPE: 0\n"
     ]
    },
    {
     "ename": "TypeError",
     "evalue": "get_reset_points() missing 1 required positional argument: 'dtFactor'",
     "output_type": "error",
     "traceback": [
      "\u001B[0;31m---------------------------------------------------------------------------\u001B[0m",
      "\u001B[0;31mTypeError\u001B[0m                                 Traceback (most recent call last)",
      "Cell \u001B[0;32mIn[6], line 12\u001B[0m\n\u001B[1;32m      9\u001B[0m concat_trials \u001B[38;5;241m=\u001B[39m pyal\u001B[38;5;241m.\u001B[39mconcat_trials(angle_df, signal \u001B[38;5;241m=\u001B[39m \u001B[38;5;124m\"\u001B[39m\u001B[38;5;124mall_rates\u001B[39m\u001B[38;5;124m\"\u001B[39m)\n\u001B[1;32m     11\u001B[0m \u001B[38;5;66;03m# PREPARE FOR RNN\u001B[39;00m\n\u001B[0;32m---> 12\u001B[0m reset_points, trial_len \u001B[38;5;241m=\u001B[39m get_reset_points(angle_df, concat_trials, brain_areas)\n\u001B[1;32m     13\u001B[0m activity \u001B[38;5;241m=\u001B[39m np\u001B[38;5;241m.\u001B[39mtranspose(concat_trials)\n\u001B[1;32m     14\u001B[0m regions \u001B[38;5;241m=\u001B[39m get_regions(angle_df, brain_areas)\n",
      "\u001B[0;31mTypeError\u001B[0m: get_reset_points() missing 1 required positional argument: 'dtFactor'"
     ]
    }
   ],
   "execution_count": 6
  },
  {
   "cell_type": "code",
   "execution_count": null,
   "metadata": {},
   "outputs": [],
   "source": [
    "print(\"DONE!\")"
   ]
  }
 ],
 "metadata": {
  "kernelspec": {
   "display_name": "Python 3",
   "language": "python",
   "name": "python3"
  },
  "language_info": {
   "codemirror_mode": {
    "name": "ipython",
    "version": 3
   },
   "file_extension": ".py",
   "mimetype": "text/x-python",
   "name": "python",
   "nbconvert_exporter": "python",
   "pygments_lexer": "ipython3",
   "version": "3.13.2"
  }
 },
 "nbformat": 4,
 "nbformat_minor": 2
}
