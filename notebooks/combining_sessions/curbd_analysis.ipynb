{
 "cells": [
  {
   "cell_type": "code",
   "execution_count": 96,
   "id": "cf42c329",
   "metadata": {},
   "outputs": [],
   "source": [
    "import sys\n",
    "import os\n",
    "import importlib\n",
    "import seaborn as sns\n",
    "import numpy as np\n",
    "import pandas as pd\n",
    "from scipy.io import loadmat\n",
    "import matplotlib.pyplot as plt\n",
    "import matplotlib.gridspec as gridspec\n",
    "import pylab\n",
    "\n",
    "# pyaldata\n",
    "sys.path.append(\"/home/zms24/Desktop\") \n",
    "import PyalData.pyaldata as pyal # type:ignore\n",
    "\n",
    "# tools functions\n",
    "project_root = os.path.abspath(os.path.join(os.getcwd(), \"../..\"))\n",
    "if project_root not in sys.path:\n",
    "    sys.path.insert(0, project_root)\n",
    "\n",
    "from tools.curbd import curbd\n",
    "from tools.dsp.preprocessing import preprocess\n",
    "from tools.rnn_and_curbd import rnn as rnnz\n",
    "from tools.rnn_and_curbd import plotting as pltz\n",
    "from tools.rnn_and_curbd import model_analysis as analyz\n",
    "from tools.rnn_and_curbd import curbd as curbdz\n",
    "\n",
    "# Reload modules\n",
    "importlib.reload(rnnz)\n",
    "importlib.reload(pltz)\n",
    "importlib.reload(analyz)\n",
    "importlib.reload(curbdz)\n",
    "\n",
    "np.random.seed(0)"
   ]
  },
  {
   "cell_type": "code",
   "execution_count": 3,
   "id": "58e029c4",
   "metadata": {},
   "outputs": [],
   "source": [
    "curbd_colors = {'M1': \"#3681D2\", 'SSp': '#f4a261', 'CP': \"#8ed74d\", 'VAL': '#e76f51'}\n",
    "model_color = '#00ff7f'\n",
    "exp_color = '#232333'\n",
    "trial_color = '#98fb98'\n",
    "top_sol_color = \"#ed6bbe\"\n",
    "bottom_sol_color = \"#b66cea\"\n",
    "color_palette = {'curbd_colors': curbd_colors, \n",
    "                 'model_color': model_color, \n",
    "                 'exp_color': exp_color,\n",
    "                 'trial_color': trial_color,\n",
    "                 'top_sol_color': top_sol_color,\n",
    "                 'bottom_sol_color': bottom_sol_color\n",
    "                 }"
   ]
  },
  {
   "cell_type": "markdown",
   "id": "3012ca4b",
   "metadata": {},
   "source": [
    "M044"
   ]
  },
  {
   "cell_type": "code",
   "execution_count": 10,
   "id": "baa12eb2",
   "metadata": {},
   "outputs": [],
   "source": [
    "filename = 'rnn_model_M044_2024_12_04_09_30.mat'\n",
    "path = os.path.join(\"/home/zms24/Desktop/rnn_models/\", filename)\n",
    "\n",
    "data = loadmat(path, simplify_cells=True)\n",
    "rnn_model = data['rnn_model']"
   ]
  },
  {
   "cell_type": "code",
   "execution_count": 13,
   "id": "92a22493",
   "metadata": {},
   "outputs": [
    {
     "name": "stdout",
     "output_type": "stream",
     "text": [
      "field values_before_camera_trigger could not be converted to int.\n",
      "field idx_before_camera_trigger could not be converted to int.\n",
      "array field all_KSLabel could not be converted to int.\n"
     ]
    },
    {
     "name": "stderr",
     "output_type": "stream",
     "text": [
      "/home/zms24/Desktop/PyalData/pyaldata/firing_rates.py:108: UserWarning: Assuming spikes are actually spikes and dividing by bin size.\n",
      "  utils.warnings.warn(\n"
     ]
    },
    {
     "name": "stdout",
     "output_type": "stream",
     "text": [
      "Combined every 3 bins\n",
      "Resulting all_spikes ephys data shape is (NxT): (474, 133)\n",
      "Trial length: 133\n"
     ]
    }
   ],
   "source": [
    "pyal_dict_44_0 = rnnz.process_pyal_M044_files(\"M044_2024_12_04_09_30_pyaldata.mat\", rnn_model)"
   ]
  },
  {
   "cell_type": "markdown",
   "id": "cad31332",
   "metadata": {},
   "source": [
    "M061"
   ]
  },
  {
   "cell_type": "code",
   "execution_count": 7,
   "id": "d4013c75",
   "metadata": {},
   "outputs": [],
   "source": [
    "fname0 = 'rnn_model_M061_2025_03_04_10_00.mat'\n",
    "fname1 = 'rnn_model_M061_2025_03_06_14_00.mat'\n",
    "path0 = os.path.join(\"/home/zms24/Desktop/rnn_models/\", fname0)\n",
    "path1 = os.path.join(\"/home/zms24/Desktop/rnn_models/\", fname1)\n",
    "\n",
    "data0 = loadmat(path0, simplify_cells=True)\n",
    "data1 = loadmat(path1, simplify_cells=True)\n",
    "rnn_model0 = data0['rnn_model']\n",
    "rnn_model1 = data1['rnn_model']"
   ]
  },
  {
   "cell_type": "code",
   "execution_count": 8,
   "id": "8c0708ac",
   "metadata": {},
   "outputs": [
    {
     "name": "stdout",
     "output_type": "stream",
     "text": [
      "field values_Sol_direction could not be converted to int.\n",
      "field idx_Sol_direction could not be converted to int.\n",
      "field values_Sol_duration could not be converted to int.\n",
      "field idx_Sol_duration could not be converted to int.\n",
      "field idx_sol_on could not be converted to int.\n",
      "array field SSp_ul_KSLabel could not be converted to int.\n",
      "array field all_KSLabel could not be converted to int.\n",
      "array field Thal_KSLabel could not be converted to int.\n",
      "array field MOp_KSLabel could not be converted to int.\n",
      "array field CP_KSLabel could not be converted to int.\n",
      "field idx_motion could not be converted to int.\n",
      "array field SSp_ul_KSLabel could not be converted to int.\n",
      "array field all_KSLabel could not be converted to int.\n",
      "array field Thal_KSLabel could not be converted to int.\n",
      "array field MOp_KSLabel could not be converted to int.\n",
      "array field CP_KSLabel could not be converted to int.\n",
      "field values_before_camera_trigger could not be converted to int.\n",
      "field idx_before_camera_trigger could not be converted to int.\n",
      "array field SSp_ul_KSLabel could not be converted to int.\n",
      "array field all_KSLabel could not be converted to int.\n",
      "array field Thal_KSLabel could not be converted to int.\n",
      "array field MOp_KSLabel could not be converted to int.\n",
      "array field CP_KSLabel could not be converted to int.\n"
     ]
    },
    {
     "name": "stderr",
     "output_type": "stream",
     "text": [
      "/home/zms24/Desktop/PyalData/pyaldata/firing_rates.py:108: UserWarning: Assuming spikes are actually spikes and dividing by bin size.\n",
      "  utils.warnings.warn(\n",
      "/home/zms24/Desktop/PyalData/pyaldata/firing_rates.py:108: UserWarning: Assuming spikes are actually spikes and dividing by bin size.\n",
      "  utils.warnings.warn(\n",
      "/home/zms24/Desktop/PyalData/pyaldata/firing_rates.py:108: UserWarning: Assuming spikes are actually spikes and dividing by bin size.\n",
      "  utils.warnings.warn(\n",
      "/home/zms24/Desktop/PyalData/pyaldata/firing_rates.py:108: UserWarning: Assuming spikes are actually spikes and dividing by bin size.\n",
      "  utils.warnings.warn(\n"
     ]
    },
    {
     "name": "stdout",
     "output_type": "stream",
     "text": [
      "Combined every 3 bins\n",
      "Resulting SSp_ul_spikes ephys data shape is (NxT): (59, 200)\n",
      "Resulting Thal_spikes ephys data shape is (NxT): (240, 200)\n",
      "Resulting MOp_spikes ephys data shape is (NxT): (206, 200)\n",
      "Resulting CP_spikes ephys data shape is (NxT): (356, 200)\n",
      "Trial length: 200\n",
      "field values_before_camera_trigger could not be converted to int.\n",
      "field idx_before_camera_trigger could not be converted to int.\n",
      "array field SSp_KSLabel could not be converted to int.\n",
      "array field VAL_KSLabel could not be converted to int.\n",
      "array field all_KSLabel could not be converted to int.\n",
      "array field MOp_KSLabel could not be converted to int.\n",
      "array field CP_KSLabel could not be converted to int.\n",
      "array field GPe_KSLabel could not be converted to int.\n",
      "array field SSp_KSLabel could not be converted to int.\n",
      "array field VAL_KSLabel could not be converted to int.\n",
      "array field all_KSLabel could not be converted to int.\n",
      "array field MOp_KSLabel could not be converted to int.\n",
      "array field CP_KSLabel could not be converted to int.\n",
      "array field GPe_KSLabel could not be converted to int.\n"
     ]
    },
    {
     "name": "stderr",
     "output_type": "stream",
     "text": [
      "/home/zms24/Desktop/PyalData/pyaldata/utils.py:155: UserWarning: values_MotSen1_X might be a time-varying field. It matches the length of SSp_spikes on 99.85052316890882% of trials\n",
      "  warnings.warn(\n",
      "/home/zms24/Desktop/PyalData/pyaldata/utils.py:155: UserWarning: idx_MotSen1_X might be a time-varying field. It matches the length of SSp_spikes on 99.85052316890882% of trials\n",
      "  warnings.warn(\n",
      "/home/zms24/Desktop/PyalData/pyaldata/utils.py:155: UserWarning: values_MotSen1_Y might be a time-varying field. It matches the length of SSp_spikes on 99.85052316890882% of trials\n",
      "  warnings.warn(\n",
      "/home/zms24/Desktop/PyalData/pyaldata/utils.py:155: UserWarning: idx_MotSen1_Y might be a time-varying field. It matches the length of SSp_spikes on 99.85052316890882% of trials\n",
      "  warnings.warn(\n",
      "/home/zms24/Desktop/PyalData/pyaldata/firing_rates.py:108: UserWarning: Assuming spikes are actually spikes and dividing by bin size.\n",
      "  utils.warnings.warn(\n",
      "/home/zms24/Desktop/PyalData/pyaldata/firing_rates.py:108: UserWarning: Assuming spikes are actually spikes and dividing by bin size.\n",
      "  utils.warnings.warn(\n",
      "/home/zms24/Desktop/PyalData/pyaldata/firing_rates.py:108: UserWarning: Assuming spikes are actually spikes and dividing by bin size.\n",
      "  utils.warnings.warn(\n",
      "/home/zms24/Desktop/PyalData/pyaldata/firing_rates.py:108: UserWarning: Assuming spikes are actually spikes and dividing by bin size.\n",
      "  utils.warnings.warn(\n",
      "/home/zms24/Desktop/PyalData/pyaldata/firing_rates.py:108: UserWarning: Assuming spikes are actually spikes and dividing by bin size.\n",
      "  utils.warnings.warn(\n"
     ]
    },
    {
     "name": "stdout",
     "output_type": "stream",
     "text": [
      "Combined every 3 bins\n",
      "Resulting SSp_spikes ephys data shape is (NxT): (69, 200)\n",
      "Resulting VAL_spikes ephys data shape is (NxT): (168, 200)\n",
      "Resulting MOp_spikes ephys data shape is (NxT): (178, 200)\n",
      "Resulting CP_spikes ephys data shape is (NxT): (172, 200)\n",
      "Resulting GPe_spikes ephys data shape is (NxT): (120, 200)\n",
      "Trial length: 200\n"
     ]
    }
   ],
   "source": [
    "pyal_dict_61_0 = rnnz.process_pyal_M061_M062_files(fname0, rnn_model0)\n",
    "pyal_dict_61_1 = rnnz.process_pyal_M061_M062_files(fname1, rnn_model1)"
   ]
  },
  {
   "cell_type": "markdown",
   "id": "0548e923",
   "metadata": {},
   "source": [
    "M062"
   ]
  },
  {
   "cell_type": "code",
   "execution_count": 6,
   "id": "47ace156",
   "metadata": {},
   "outputs": [],
   "source": [
    "fname2 = 'rnn_model_M062_2025_03_19_14_00.mat'\n",
    "fname3 = 'rnn_model_M062_2025_03_20_14_00.mat'\n",
    "fname4 = 'rnn_model_M062_2025_03_21_14_00.mat'\n",
    "path2 = os.path.join(\"/home/zms24/Desktop/rnn_models/\", fname2)\n",
    "path3 = os.path.join(\"/home/zms24/Desktop/rnn_models/\", fname3)\n",
    "path4 = os.path.join(\"/home/zms24/Desktop/rnn_models/\", fname4)\n",
    "\n",
    "data2 = loadmat(path2, simplify_cells=True)\n",
    "data3 = loadmat(path3, simplify_cells=True)\n",
    "data4 = loadmat(path4, simplify_cells=True)\n",
    "rnn_model2 = data2['rnn_model']\n",
    "rnn_model3 = data3['rnn_model']\n",
    "rnn_model4 = data4['rnn_model']"
   ]
  },
  {
   "cell_type": "code",
   "execution_count": 9,
   "id": "0ddd4ec1",
   "metadata": {},
   "outputs": [
    {
     "name": "stdout",
     "output_type": "stream",
     "text": [
      "array field all_KSLabel could not be converted to int.\n",
      "array field VAL_KSLabel could not be converted to int.\n",
      "array field SSp_KSLabel could not be converted to int.\n",
      "array field CP_KSLabel could not be converted to int.\n",
      "array field MOp_KSLabel could not be converted to int.\n",
      "field values_Sol_direction could not be converted to int.\n",
      "field idx_Sol_direction could not be converted to int.\n",
      "field values_Sol_duration could not be converted to int.\n",
      "field idx_Sol_duration could not be converted to int.\n",
      "field idx_sol_on could not be converted to int.\n",
      "array field all_KSLabel could not be converted to int.\n",
      "array field VAL_KSLabel could not be converted to int.\n",
      "array field SSp_KSLabel could not be converted to int.\n",
      "array field CP_KSLabel could not be converted to int.\n",
      "array field MOp_KSLabel could not be converted to int.\n",
      "field values_before_camera_trigger could not be converted to int.\n",
      "field idx_before_camera_trigger could not be converted to int.\n",
      "array field all_KSLabel could not be converted to int.\n",
      "array field VAL_KSLabel could not be converted to int.\n",
      "array field SSp_KSLabel could not be converted to int.\n",
      "array field CP_KSLabel could not be converted to int.\n",
      "array field MOp_KSLabel could not be converted to int.\n"
     ]
    },
    {
     "name": "stderr",
     "output_type": "stream",
     "text": [
      "/home/zms24/Desktop/PyalData/pyaldata/utils.py:155: UserWarning: values_MotSen1_X might be a time-varying field. It matches the length of VAL_spikes on 99.86149584487535% of trials\n",
      "  warnings.warn(\n",
      "/home/zms24/Desktop/PyalData/pyaldata/utils.py:155: UserWarning: idx_MotSen1_X might be a time-varying field. It matches the length of VAL_spikes on 99.86149584487535% of trials\n",
      "  warnings.warn(\n",
      "/home/zms24/Desktop/PyalData/pyaldata/utils.py:155: UserWarning: values_MotSen1_Y might be a time-varying field. It matches the length of VAL_spikes on 99.86149584487535% of trials\n",
      "  warnings.warn(\n",
      "/home/zms24/Desktop/PyalData/pyaldata/utils.py:155: UserWarning: idx_MotSen1_Y might be a time-varying field. It matches the length of VAL_spikes on 99.86149584487535% of trials\n",
      "  warnings.warn(\n",
      "/home/zms24/Desktop/PyalData/pyaldata/firing_rates.py:108: UserWarning: Assuming spikes are actually spikes and dividing by bin size.\n",
      "  utils.warnings.warn(\n",
      "/home/zms24/Desktop/PyalData/pyaldata/firing_rates.py:108: UserWarning: Assuming spikes are actually spikes and dividing by bin size.\n",
      "  utils.warnings.warn(\n",
      "/home/zms24/Desktop/PyalData/pyaldata/firing_rates.py:108: UserWarning: Assuming spikes are actually spikes and dividing by bin size.\n",
      "  utils.warnings.warn(\n",
      "/home/zms24/Desktop/PyalData/pyaldata/firing_rates.py:108: UserWarning: Assuming spikes are actually spikes and dividing by bin size.\n",
      "  utils.warnings.warn(\n"
     ]
    },
    {
     "name": "stdout",
     "output_type": "stream",
     "text": [
      "Combined every 3 bins\n",
      "Resulting VAL_spikes ephys data shape is (NxT): (198, 200)\n",
      "Resulting SSp_spikes ephys data shape is (NxT): (95, 200)\n",
      "Resulting CP_spikes ephys data shape is (NxT): (307, 200)\n",
      "Resulting MOp_spikes ephys data shape is (NxT): (210, 200)\n",
      "Trial length: 200\n",
      "field values_before_camera_trigger could not be converted to int.\n",
      "field idx_before_camera_trigger could not be converted to int.\n",
      "array field VAL_KSLabel could not be converted to int.\n",
      "array field SSp_KSLabel could not be converted to int.\n",
      "array field all_KSLabel could not be converted to int.\n",
      "array field MOp_KSLabel could not be converted to int.\n",
      "array field CP_KSLabel could not be converted to int.\n",
      "array field VAL_KSLabel could not be converted to int.\n",
      "array field SSp_KSLabel could not be converted to int.\n",
      "array field all_KSLabel could not be converted to int.\n",
      "array field MOp_KSLabel could not be converted to int.\n",
      "array field CP_KSLabel could not be converted to int.\n",
      "field values_Sol_direction could not be converted to int.\n",
      "field idx_Sol_direction could not be converted to int.\n",
      "field values_Sol_duration could not be converted to int.\n",
      "field idx_Sol_duration could not be converted to int.\n",
      "field idx_sol_on could not be converted to int.\n",
      "array field VAL_KSLabel could not be converted to int.\n",
      "array field SSp_KSLabel could not be converted to int.\n",
      "array field all_KSLabel could not be converted to int.\n",
      "array field MOp_KSLabel could not be converted to int.\n",
      "array field CP_KSLabel could not be converted to int.\n"
     ]
    },
    {
     "name": "stderr",
     "output_type": "stream",
     "text": [
      "/home/zms24/Desktop/PyalData/pyaldata/utils.py:155: UserWarning: values_MotSen1_X might be a time-varying field. It matches the length of VAL_spikes on 99.85955056179775% of trials\n",
      "  warnings.warn(\n",
      "/home/zms24/Desktop/PyalData/pyaldata/utils.py:155: UserWarning: idx_MotSen1_X might be a time-varying field. It matches the length of VAL_spikes on 99.85955056179775% of trials\n",
      "  warnings.warn(\n",
      "/home/zms24/Desktop/PyalData/pyaldata/utils.py:155: UserWarning: values_MotSen1_Y might be a time-varying field. It matches the length of VAL_spikes on 99.85955056179775% of trials\n",
      "  warnings.warn(\n",
      "/home/zms24/Desktop/PyalData/pyaldata/utils.py:155: UserWarning: idx_MotSen1_Y might be a time-varying field. It matches the length of VAL_spikes on 99.85955056179775% of trials\n",
      "  warnings.warn(\n",
      "/home/zms24/Desktop/PyalData/pyaldata/firing_rates.py:108: UserWarning: Assuming spikes are actually spikes and dividing by bin size.\n",
      "  utils.warnings.warn(\n",
      "/home/zms24/Desktop/PyalData/pyaldata/firing_rates.py:108: UserWarning: Assuming spikes are actually spikes and dividing by bin size.\n",
      "  utils.warnings.warn(\n",
      "/home/zms24/Desktop/PyalData/pyaldata/firing_rates.py:108: UserWarning: Assuming spikes are actually spikes and dividing by bin size.\n",
      "  utils.warnings.warn(\n",
      "/home/zms24/Desktop/PyalData/pyaldata/firing_rates.py:108: UserWarning: Assuming spikes are actually spikes and dividing by bin size.\n",
      "  utils.warnings.warn(\n"
     ]
    },
    {
     "name": "stdout",
     "output_type": "stream",
     "text": [
      "Combined every 3 bins\n",
      "Resulting VAL_spikes ephys data shape is (NxT): (155, 200)\n",
      "Resulting SSp_spikes ephys data shape is (NxT): (118, 200)\n",
      "Resulting MOp_spikes ephys data shape is (NxT): (163, 200)\n",
      "Resulting CP_spikes ephys data shape is (NxT): (356, 200)\n",
      "Trial length: 200\n",
      "field values_before_camera_trigger could not be converted to int.\n",
      "field idx_before_camera_trigger could not be converted to int.\n",
      "array field VAL_KSLabel could not be converted to int.\n",
      "array field SSp_KSLabel could not be converted to int.\n",
      "array field all_KSLabel could not be converted to int.\n",
      "array field CP_KSLabel could not be converted to int.\n",
      "array field MOp_KSLabel could not be converted to int.\n",
      "field values_Sol_direction could not be converted to int.\n",
      "field idx_Sol_direction could not be converted to int.\n",
      "field values_Sol_duration could not be converted to int.\n",
      "field idx_Sol_duration could not be converted to int.\n",
      "field idx_sol_on could not be converted to int.\n",
      "array field VAL_KSLabel could not be converted to int.\n",
      "array field SSp_KSLabel could not be converted to int.\n",
      "array field all_KSLabel could not be converted to int.\n",
      "array field CP_KSLabel could not be converted to int.\n",
      "array field MOp_KSLabel could not be converted to int.\n",
      "field values_Sol_direction could not be converted to int.\n",
      "field idx_Sol_direction could not be converted to int.\n",
      "field values_Sol_duration could not be converted to int.\n",
      "field idx_Sol_duration could not be converted to int.\n",
      "field idx_sol_on could not be converted to int.\n",
      "array field VAL_KSLabel could not be converted to int.\n",
      "array field SSp_KSLabel could not be converted to int.\n",
      "array field all_KSLabel could not be converted to int.\n",
      "array field CP_KSLabel could not be converted to int.\n",
      "array field MOp_KSLabel could not be converted to int.\n"
     ]
    },
    {
     "name": "stderr",
     "output_type": "stream",
     "text": [
      "/home/zms24/Desktop/PyalData/pyaldata/utils.py:155: UserWarning: values_MotSen1_X might be a time-varying field. It matches the length of VAL_spikes on 99.85875706214689% of trials\n",
      "  warnings.warn(\n",
      "/home/zms24/Desktop/PyalData/pyaldata/utils.py:155: UserWarning: idx_MotSen1_X might be a time-varying field. It matches the length of VAL_spikes on 99.85875706214689% of trials\n",
      "  warnings.warn(\n",
      "/home/zms24/Desktop/PyalData/pyaldata/utils.py:155: UserWarning: values_MotSen1_Y might be a time-varying field. It matches the length of VAL_spikes on 99.85875706214689% of trials\n",
      "  warnings.warn(\n",
      "/home/zms24/Desktop/PyalData/pyaldata/utils.py:155: UserWarning: idx_MotSen1_Y might be a time-varying field. It matches the length of VAL_spikes on 99.85875706214689% of trials\n",
      "  warnings.warn(\n",
      "/home/zms24/Desktop/PyalData/pyaldata/firing_rates.py:108: UserWarning: Assuming spikes are actually spikes and dividing by bin size.\n",
      "  utils.warnings.warn(\n",
      "/home/zms24/Desktop/PyalData/pyaldata/firing_rates.py:108: UserWarning: Assuming spikes are actually spikes and dividing by bin size.\n",
      "  utils.warnings.warn(\n",
      "/home/zms24/Desktop/PyalData/pyaldata/firing_rates.py:108: UserWarning: Assuming spikes are actually spikes and dividing by bin size.\n",
      "  utils.warnings.warn(\n",
      "/home/zms24/Desktop/PyalData/pyaldata/firing_rates.py:108: UserWarning: Assuming spikes are actually spikes and dividing by bin size.\n",
      "  utils.warnings.warn(\n"
     ]
    },
    {
     "name": "stdout",
     "output_type": "stream",
     "text": [
      "Combined every 3 bins\n",
      "Resulting VAL_spikes ephys data shape is (NxT): (122, 200)\n",
      "Resulting SSp_spikes ephys data shape is (NxT): (66, 200)\n",
      "Resulting CP_spikes ephys data shape is (NxT): (280, 200)\n",
      "Resulting MOp_spikes ephys data shape is (NxT): (179, 200)\n",
      "Trial length: 200\n"
     ]
    }
   ],
   "source": [
    "pyal_dict_62_0 = rnnz.process_pyal_M061_M062_files(fname2, rnn_model2)\n",
    "pyal_dict_62_1 = rnnz.process_pyal_M061_M062_files(fname3, rnn_model3)\n",
    "pyal_dict_62_2 = rnnz.process_pyal_M061_M062_files(fname4, rnn_model4)"
   ]
  },
  {
   "cell_type": "markdown",
   "id": "89a38295",
   "metadata": {},
   "source": [
    "## CURBD"
   ]
  },
  {
   "cell_type": "code",
   "execution_count": 73,
   "id": "c0e9e3d7",
   "metadata": {},
   "outputs": [],
   "source": [
    "def curbd_for_all_models(models, pyal_dicts, labels):\n",
    "    curbd_data = {}\n",
    "    for i in range(len(models)):\n",
    "        rnn_model = models[i]\n",
    "        pyal_dict = pyal_dicts[i]\n",
    "        label = labels[i]\n",
    "        curbd_arr, curbd_labels = curbd.computeCURBD(rnn_model)\n",
    "        n_regions = curbd_arr.shape[0]\n",
    "        currents, current_labels = curbdz.format_curbd_output(curbd_arr, curbd_labels, n_regions, pyal_dict['reset_points'])\n",
    "\n",
    "        curbd_data[label] = {\"curbd_arr\": curbd_arr,\n",
    "                        \"curbd_labels\": curbd_labels,\n",
    "                        \"currents\": currents,\n",
    "                        \"current_labels\": current_labels,\n",
    "                        \"n_regions\": n_regions,\n",
    "                        \"pyal_dict\": pyal_dict,\n",
    "                        \"rnn_model\": rnn_model}\n",
    "    return curbd_data"
   ]
  },
  {
   "cell_type": "code",
   "execution_count": 74,
   "id": "82690404",
   "metadata": {},
   "outputs": [],
   "source": [
    "models = [rnn_model, rnn_model0, rnn_model1, rnn_model2, rnn_model3, rnn_model4]\n",
    "pyal_dicts = [pyal_dict_44_0, pyal_dict_61_0, pyal_dict_61_1, pyal_dict_62_0, pyal_dict_62_1, pyal_dict_62_2]\n",
    "labels = [\"M044_0\", \"M061_0\", \"M061_1\", \"M062_0\", \"M062_1\", \"M062_2\"]"
   ]
  },
  {
   "cell_type": "code",
   "execution_count": 75,
   "id": "72782a1e",
   "metadata": {},
   "outputs": [],
   "source": [
    "curbd_data = curbd_for_all_models(models, pyal_dicts, labels)"
   ]
  },
  {
   "cell_type": "code",
   "execution_count": 76,
   "id": "2a2e0e63",
   "metadata": {},
   "outputs": [],
   "source": [
    "def compute_peak_to_baseline_ratios(all_currents, all_currents_labels, perturbation_time, bin_size, dtFactor):\n",
    "    ratios = []\n",
    "    time_axis = np.linspace(0, all_currents[0].shape[2] * bin_size / dtFactor, all_currents[0].shape[2])\n",
    "\n",
    "    # Define baseline and response windows\n",
    "    baseline_window = (perturbation_time - 0.5, perturbation_time)\n",
    "    response_window = (perturbation_time, perturbation_time + 0.5)\n",
    "\n",
    "    # Get indices for these time windows\n",
    "    baseline_idx = np.where((time_axis >= baseline_window[0]) & (time_axis < baseline_window[1]))[0]\n",
    "    response_idx = np.where((time_axis >= response_window[0]) & (time_axis < response_window[1]))[0]\n",
    "\n",
    "    for i, current_data in enumerate(all_currents):\n",
    "        current_label = all_currents_labels[i]\n",
    "        current_data = np.array(current_data)  # shape: (conditions, trials, time)\n",
    "\n",
    "        # Average across conditions and trials\n",
    "        mean_current = np.mean(current_data, axis=(0, 1))\n",
    "\n",
    "        # Baseline and peak\n",
    "        baseline_mean = np.mean(np.abs(mean_current[baseline_idx]))\n",
    "        response_peak = np.max(np.abs(mean_current[response_idx]))\n",
    "\n",
    "        ratio = response_peak / baseline_mean if baseline_mean != 0 else np.nan\n",
    "\n",
    "        ratios.append({\n",
    "            \"current_label\": current_label,\n",
    "            \"baseline\": baseline_mean,\n",
    "            \"peak\": response_peak,\n",
    "            \"peak_to_baseline_ratio\": ratio\n",
    "        })\n",
    "\n",
    "    df_ratios = pd.DataFrame(ratios)\n",
    "    return df_ratios"
   ]
  },
  {
   "cell_type": "code",
   "execution_count": 128,
   "id": "c714f84f",
   "metadata": {},
   "outputs": [],
   "source": [
    "def peak_to_baseline(curbd_data):\n",
    "    all_ratio_df = []\n",
    "\n",
    "    for label, data in curbd_data.items():\n",
    "        ratio_df = compute_peak_to_baseline_ratios(\n",
    "            data['currents'],\n",
    "            data['current_labels'],\n",
    "            data['pyal_dict']['perturbation_time_sec'],\n",
    "            data['rnn_model']['dtData'],\n",
    "            data['rnn_model']['params']['dtFactor']\n",
    "        )\n",
    "        ratio_df[\"model_id\"] = label\n",
    "\n",
    "        # Split current_label into source and target\n",
    "        split_labels = ratio_df[\"current_label\"].str.split(\" to \", expand=True)\n",
    "        split_mouse = ratio_df[\"model_id\"].str.split(\"_\", expand=True)\n",
    "        ratio_df = ratio_df.drop(columns=['current_label', \"model_id\"])\n",
    "        ratio_df[\"source\"] = split_labels[0]\n",
    "        ratio_df[\"target\"] = split_labels[1]\n",
    "        ratio_df[\"mouse\"] = split_mouse[0]\n",
    "\n",
    "        region_map = {\n",
    "            \"M1\": \"MOp\",\n",
    "            \"Dls\": \"CP\",\n",
    "            \"Thal\": \"VAL\"\n",
    "        }\n",
    "\n",
    "        # Apply the mapping to both 'source' and 'target' columns\n",
    "        ratio_df['source'] = ratio_df['source'].replace(region_map)\n",
    "        ratio_df['target'] = ratio_df['target'].replace(region_map)\n",
    "\n",
    "        all_ratio_df.append(ratio_df)\n",
    "\n",
    "    return pd.concat(all_ratio_df, ignore_index=True)"
   ]
  },
  {
   "cell_type": "code",
   "execution_count": 129,
   "id": "42b44aa7",
   "metadata": {},
   "outputs": [],
   "source": [
    "baseline_peak_df = peak_to_baseline(curbd_data)"
   ]
  },
  {
   "cell_type": "code",
   "execution_count": 130,
   "id": "17788aad",
   "metadata": {},
   "outputs": [
    {
     "data": {
      "text/html": [
       "<div>\n",
       "<style scoped>\n",
       "    .dataframe tbody tr th:only-of-type {\n",
       "        vertical-align: middle;\n",
       "    }\n",
       "\n",
       "    .dataframe tbody tr th {\n",
       "        vertical-align: top;\n",
       "    }\n",
       "\n",
       "    .dataframe thead th {\n",
       "        text-align: right;\n",
       "    }\n",
       "</style>\n",
       "<table border=\"1\" class=\"dataframe\">\n",
       "  <thead>\n",
       "    <tr style=\"text-align: right;\">\n",
       "      <th></th>\n",
       "      <th>baseline</th>\n",
       "      <th>peak</th>\n",
       "      <th>peak_to_baseline_ratio</th>\n",
       "      <th>source</th>\n",
       "      <th>target</th>\n",
       "      <th>mouse</th>\n",
       "    </tr>\n",
       "  </thead>\n",
       "  <tbody>\n",
       "    <tr>\n",
       "      <th>0</th>\n",
       "      <td>0.193629</td>\n",
       "      <td>0.326294</td>\n",
       "      <td>1.685151</td>\n",
       "      <td>MOp</td>\n",
       "      <td>MOp</td>\n",
       "      <td>M044</td>\n",
       "    </tr>\n",
       "    <tr>\n",
       "      <th>1</th>\n",
       "      <td>0.263641</td>\n",
       "      <td>0.418140</td>\n",
       "      <td>1.586019</td>\n",
       "      <td>CP</td>\n",
       "      <td>MOp</td>\n",
       "      <td>M044</td>\n",
       "    </tr>\n",
       "    <tr>\n",
       "      <th>2</th>\n",
       "      <td>0.161061</td>\n",
       "      <td>0.276609</td>\n",
       "      <td>1.717422</td>\n",
       "      <td>MOp</td>\n",
       "      <td>CP</td>\n",
       "      <td>M044</td>\n",
       "    </tr>\n",
       "    <tr>\n",
       "      <th>3</th>\n",
       "      <td>0.256781</td>\n",
       "      <td>0.385532</td>\n",
       "      <td>1.501404</td>\n",
       "      <td>CP</td>\n",
       "      <td>CP</td>\n",
       "      <td>M044</td>\n",
       "    </tr>\n",
       "    <tr>\n",
       "      <th>4</th>\n",
       "      <td>0.607910</td>\n",
       "      <td>0.641519</td>\n",
       "      <td>1.055286</td>\n",
       "      <td>MOp</td>\n",
       "      <td>MOp</td>\n",
       "      <td>M061</td>\n",
       "    </tr>\n",
       "    <tr>\n",
       "      <th>5</th>\n",
       "      <td>0.228078</td>\n",
       "      <td>0.267703</td>\n",
       "      <td>1.173735</td>\n",
       "      <td>SSp</td>\n",
       "      <td>MOp</td>\n",
       "      <td>M061</td>\n",
       "    </tr>\n",
       "    <tr>\n",
       "      <th>6</th>\n",
       "      <td>0.550117</td>\n",
       "      <td>0.664156</td>\n",
       "      <td>1.207299</td>\n",
       "      <td>CP</td>\n",
       "      <td>MOp</td>\n",
       "      <td>M061</td>\n",
       "    </tr>\n",
       "    <tr>\n",
       "      <th>7</th>\n",
       "      <td>0.415567</td>\n",
       "      <td>0.438171</td>\n",
       "      <td>1.054395</td>\n",
       "      <td>VAL</td>\n",
       "      <td>MOp</td>\n",
       "      <td>M061</td>\n",
       "    </tr>\n",
       "    <tr>\n",
       "      <th>8</th>\n",
       "      <td>0.574533</td>\n",
       "      <td>0.598039</td>\n",
       "      <td>1.040912</td>\n",
       "      <td>MOp</td>\n",
       "      <td>SSp</td>\n",
       "      <td>M061</td>\n",
       "    </tr>\n",
       "    <tr>\n",
       "      <th>9</th>\n",
       "      <td>0.162017</td>\n",
       "      <td>0.182998</td>\n",
       "      <td>1.129502</td>\n",
       "      <td>SSp</td>\n",
       "      <td>SSp</td>\n",
       "      <td>M061</td>\n",
       "    </tr>\n",
       "  </tbody>\n",
       "</table>\n",
       "</div>"
      ],
      "text/plain": [
       "   baseline      peak  peak_to_baseline_ratio source target mouse\n",
       "0  0.193629  0.326294                1.685151    MOp    MOp  M044\n",
       "1  0.263641  0.418140                1.586019     CP    MOp  M044\n",
       "2  0.161061  0.276609                1.717422    MOp     CP  M044\n",
       "3  0.256781  0.385532                1.501404     CP     CP  M044\n",
       "4  0.607910  0.641519                1.055286    MOp    MOp  M061\n",
       "5  0.228078  0.267703                1.173735    SSp    MOp  M061\n",
       "6  0.550117  0.664156                1.207299     CP    MOp  M061\n",
       "7  0.415567  0.438171                1.054395    VAL    MOp  M061\n",
       "8  0.574533  0.598039                1.040912    MOp    SSp  M061\n",
       "9  0.162017  0.182998                1.129502    SSp    SSp  M061"
      ]
     },
     "execution_count": 130,
     "metadata": {},
     "output_type": "execute_result"
    }
   ],
   "source": [
    "baseline_peak_df.head(10)"
   ]
  },
  {
   "cell_type": "code",
   "execution_count": 157,
   "id": "737b2652",
   "metadata": {},
   "outputs": [],
   "source": [
    "def plot_ratios_by_source(baseline_peak_df):\n",
    "    source_regions = sorted(baseline_peak_df['source'].unique())[:4]\n",
    "\n",
    "    # Define colormaps for brain areas\n",
    "    area_cmaps = {\n",
    "        'MOp': plt.cm.Blues,\n",
    "        'SSp': plt.cm.YlOrBr,\n",
    "        'CP': plt.cm.YlGn,\n",
    "        'VAL': plt.cm.Reds,\n",
    "        'all': plt.cm.Greys\n",
    "    }\n",
    "\n",
    "    # Define intensity for each mouse\n",
    "    mouse_shades = {'M044': 0.3, 'M061': 0.5, 'M062': 0.7}\n",
    "\n",
    "    fig, axes = plt.subplots(2, 2, figsize=(6, 4), sharey=True, dpi = 300)\n",
    "    axes = axes.flatten()\n",
    "\n",
    "    for i, source in enumerate(source_regions):\n",
    "        ax = axes[i]\n",
    "        data = baseline_peak_df[baseline_peak_df['source'] == source]\n",
    "\n",
    "        for mouse in data['mouse'].unique():\n",
    "            mouse_data = data[data['mouse'] == mouse]\n",
    "\n",
    "            mouse_id = mouse.split('_')[0]  # extract 'M044' from 'M044_0'\n",
    "            cmap = area_cmaps.get(source, plt.cm.Greys)\n",
    "            shade = mouse_shades.get(mouse_id, 0.5)\n",
    "            color = cmap(shade)\n",
    "\n",
    "            ax.scatter(\n",
    "                mouse_data['target'],\n",
    "                mouse_data['peak_to_baseline_ratio'],\n",
    "                label=mouse,\n",
    "                color=color,\n",
    "                alpha=0.9,\n",
    "                s=60\n",
    "            )\n",
    "\n",
    "        # ax.set_title(f\"{source} → Target Regions\", fontsize=12)\n",
    "        # ax.set_xlabel(\"Target Region\")\n",
    "        # ax.set_ylabel(\"Peak-to-Baseline Ratio\")\n",
    "        ax.axhline(1.0, color='gray', linestyle='--', linewidth=1)\n",
    "        ax.tick_params(axis='x', rotation=45)\n",
    "    \n",
    "\n",
    "    # Create a legend using unique mice\n",
    "    handles, labels = axes[0].get_legend_handles_labels()\n",
    "    # fig.legend(handles, labels, title=\"Mouse\", bbox_to_anchor=(1.02, 0.5), loc=\"center left\")\n",
    "\n",
    "    # fig.suptitle(\"Baseline-to-Peak Ratios by Source Region\", fontsize=16)\n",
    "    plt.tight_layout()\n",
    "    plt.show()"
   ]
  },
  {
   "cell_type": "code",
   "execution_count": 158,
   "id": "7452db1d",
   "metadata": {},
   "outputs": [
    {
     "data": {
      "image/png": "[encoded data removed]",
      "text/plain": [
       "<Figure size 1800x1200 with 4 Axes>"
      ]
     },
     "metadata": {},
     "output_type": "display_data"
    }
   ],
   "source": [
    "plot_ratios_by_source(baseline_peak_df)"
   ]
  },
  {
   "cell_type": "code",
   "execution_count": null,
   "id": "b0cfed93",
   "metadata": {},
   "outputs": [],
   "source": []
  },
  {
   "cell_type": "code",
   "execution_count": null,
   "id": "b0c15b2b",
   "metadata": {},
   "outputs": [],
   "source": []
  }
 ],
 "metadata": {
  "kernelspec": {
   "display_name": "zofia_earthquake_env",
   "language": "python",
   "name": "python3"
  },
  "language_info": {
   "codemirror_mode": {
    "name": "ipython",
    "version": 3
   },
   "file_extension": ".py",
   "mimetype": "text/x-python",
   "name": "python",
   "nbconvert_exporter": "python",
   "pygments_lexer": "ipython3",
   "version": "3.10.16"
  }
 },
 "nbformat": 4,
 "nbformat_minor": 5
}
