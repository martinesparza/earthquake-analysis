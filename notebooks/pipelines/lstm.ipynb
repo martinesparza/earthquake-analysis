{
 "cells": [
  {
   "cell_type": "markdown",
   "id": "4a20d03f",
   "metadata": {},
   "source": [
    "# Decode keypoints from neural data"
   ]
  },
  {
   "cell_type": "code",
   "execution_count": 11,
   "id": "7a296768",
   "metadata": {},
   "outputs": [
    {
     "name": "stdout",
     "output_type": "stream",
     "text": [
      "The autoreload extension is already loaded. To reload it, use:\n",
      "  %reload_ext autoreload\n"
     ]
    }
   ],
   "source": [
    "%load_ext autoreload\n",
    "%autoreload 2\n",
    "\n",
    "import os\n",
    "import sys\n",
    "sys.path.append(\"../../\")\n",
    "\n",
    "import pyaldata as pyal\n",
    "import pandas as pd\n",
    "import numpy as np\n",
    "import matplotlib.pyplot as plt \n",
    "import seaborn as sns\n",
    "\n",
    "from tools.reports.report_initial import run_initial_report\n",
    "from tools.params import Params, colors\n",
    "from tools.dsp.preprocessing import preprocess\n",
    "import tools.viz.mean_firing as firing\n",
    "import tools.viz.dimensionality as dim\n",
    "import tools.viz.rrr as viz_rrr\n",
    "import tools.viz.utilityTools as vizutils\n",
    "import tools.decoding.rrr as rrr\n",
    "\n",
    "import tools.decoding.decodeTools as decutils\n",
    "import tools.dataTools as dt\n",
    "\n",
    "import torch\n",
    "\n",
    "\n",
    "\n"
   ]
  },
  {
   "cell_type": "code",
   "execution_count": 25,
   "id": "c1f04d69",
   "metadata": {},
   "outputs": [
    {
     "name": "stdout",
     "output_type": "stream",
     "text": [
      "field values_before_camera_trigger could not be converted to int.\n",
      "field idx_before_camera_trigger could not be converted to int.\n",
      "array field all_KSLabel could not be converted to int.\n",
      "array field SSp_KSLabel could not be converted to int.\n",
      "array field VAL_KSLabel could not be converted to int.\n",
      "array field CP_KSLabel could not be converted to int.\n",
      "array field MOp_KSLabel could not be converted to int.\n",
      "field values_Sol_direction could not be converted to int.\n",
      "field idx_Sol_direction could not be converted to int.\n",
      "field values_Sol_duration could not be converted to int.\n",
      "field idx_Sol_duration could not be converted to int.\n",
      "field idx_sol_on could not be converted to int.\n",
      "array field all_KSLabel could not be converted to int.\n",
      "array field SSp_KSLabel could not be converted to int.\n",
      "array field VAL_KSLabel could not be converted to int.\n",
      "array field CP_KSLabel could not be converted to int.\n",
      "array field MOp_KSLabel could not be converted to int.\n",
      "field values_Sol_direction could not be converted to int.\n",
      "field idx_Sol_direction could not be converted to int.\n",
      "field values_Sol_duration could not be converted to int.\n",
      "field idx_Sol_duration could not be converted to int.\n",
      "field idx_sol_on could not be converted to int.\n",
      "array field all_KSLabel could not be converted to int.\n",
      "array field SSp_KSLabel could not be converted to int.\n",
      "array field VAL_KSLabel could not be converted to int.\n",
      "array field CP_KSLabel could not be converted to int.\n",
      "array field MOp_KSLabel could not be converted to int.\n"
     ]
    },
    {
     "name": "stderr",
     "output_type": "stream",
     "text": [
      "/home/me24/.cache/pypoetry/virtualenvs/earthquake-analysis-Z8riI-lB-py3.12/src/PyalData/pyaldata/utils.py:155: UserWarning: values_MotSen1_X might be a time-varying field. It matches the length of all_spikes on 99.85875706214689% of trials\n",
      "  warnings.warn(\n",
      "/home/me24/.cache/pypoetry/virtualenvs/earthquake-analysis-Z8riI-lB-py3.12/src/PyalData/pyaldata/utils.py:155: UserWarning: idx_MotSen1_X might be a time-varying field. It matches the length of all_spikes on 99.85875706214689% of trials\n",
      "  warnings.warn(\n",
      "/home/me24/.cache/pypoetry/virtualenvs/earthquake-analysis-Z8riI-lB-py3.12/src/PyalData/pyaldata/utils.py:155: UserWarning: values_MotSen1_Y might be a time-varying field. It matches the length of all_spikes on 99.85875706214689% of trials\n",
      "  warnings.warn(\n",
      "/home/me24/.cache/pypoetry/virtualenvs/earthquake-analysis-Z8riI-lB-py3.12/src/PyalData/pyaldata/utils.py:155: UserWarning: idx_MotSen1_Y might be a time-varying field. It matches the length of all_spikes on 99.85875706214689% of trials\n",
      "  warnings.warn(\n",
      "/home/me24/.cache/pypoetry/virtualenvs/earthquake-analysis-Z8riI-lB-py3.12/src/PyalData/pyaldata/firing_rates.py:108: UserWarning: Assuming spikes are actually spikes and dividing by bin size.\n",
      "  utils.warnings.warn(\n",
      "/home/me24/.cache/pypoetry/virtualenvs/earthquake-analysis-Z8riI-lB-py3.12/src/PyalData/pyaldata/firing_rates.py:108: UserWarning: Assuming spikes are actually spikes and dividing by bin size.\n",
      "  utils.warnings.warn(\n",
      "/home/me24/.cache/pypoetry/virtualenvs/earthquake-analysis-Z8riI-lB-py3.12/src/PyalData/pyaldata/firing_rates.py:108: UserWarning: Assuming spikes are actually spikes and dividing by bin size.\n",
      "  utils.warnings.warn(\n",
      "/home/me24/.cache/pypoetry/virtualenvs/earthquake-analysis-Z8riI-lB-py3.12/src/PyalData/pyaldata/firing_rates.py:108: UserWarning: Assuming spikes are actually spikes and dividing by bin size.\n",
      "  utils.warnings.warn(\n",
      "/home/me24/.cache/pypoetry/virtualenvs/earthquake-analysis-Z8riI-lB-py3.12/src/PyalData/pyaldata/firing_rates.py:108: UserWarning: Assuming spikes are actually spikes and dividing by bin size.\n",
      "  utils.warnings.warn(\n",
      "/home/me24/.cache/pypoetry/virtualenvs/earthquake-analysis-Z8riI-lB-py3.12/src/PyalData/pyaldata/utils.py:155: UserWarning: values_MotSen1_X might be a time-varying field. It matches the length of all_spikes on 99.85875706214689% of trials\n",
      "  warnings.warn(\n",
      "/home/me24/.cache/pypoetry/virtualenvs/earthquake-analysis-Z8riI-lB-py3.12/src/PyalData/pyaldata/utils.py:155: UserWarning: idx_MotSen1_X might be a time-varying field. It matches the length of all_spikes on 99.85875706214689% of trials\n",
      "  warnings.warn(\n",
      "/home/me24/.cache/pypoetry/virtualenvs/earthquake-analysis-Z8riI-lB-py3.12/src/PyalData/pyaldata/utils.py:155: UserWarning: values_MotSen1_Y might be a time-varying field. It matches the length of all_spikes on 99.85875706214689% of trials\n",
      "  warnings.warn(\n",
      "/home/me24/.cache/pypoetry/virtualenvs/earthquake-analysis-Z8riI-lB-py3.12/src/PyalData/pyaldata/utils.py:155: UserWarning: idx_MotSen1_Y might be a time-varying field. It matches the length of all_spikes on 99.85875706214689% of trials\n",
      "  warnings.warn(\n"
     ]
    },
    {
     "name": "stdout",
     "output_type": "stream",
     "text": [
      "Combined every 3 bins\n",
      "Resulting all_spikes ephys data shape is (NxT): (23, 16000)\n",
      "Resulting SSp_spikes ephys data shape is (NxT): (66, 16000)\n",
      "Resulting VAL_spikes ephys data shape is (NxT): (122, 16000)\n",
      "Resulting CP_spikes ephys data shape is (NxT): (280, 16000)\n",
      "Resulting MOp_spikes ephys data shape is (NxT): (179, 16000)\n"
     ]
    }
   ],
   "source": [
    "data_dir = \"/data/bnd-data/raw/\"\n",
    "session = 'M062_2025_03_21_14_00'\n",
    "\n",
    "df = pyal.load_pyaldata(data_dir + session[:4] + '/' + session)\n",
    "df = preprocess(df, only_trials=False)"
   ]
  },
  {
   "cell_type": "code",
   "execution_count": null,
   "id": "82cb93b7",
   "metadata": {},
   "outputs": [
    {
     "name": "stderr",
     "output_type": "stream",
     "text": [
      "/home/me24/repos/earthquake-analysis/notebooks/pipelines/../../tools/dataTools.py:88: UserWarning: Dropping the trials with the following IDs because of invalid time indexing. For more information, try warn_per_trial=True\n",
      "\n",
      "        [706]\n",
      "  df_ = pyal.restrict_to_interval(data_list[0], epoch_fun=epoch)\n",
      "/home/me24/repos/earthquake-analysis/notebooks/pipelines/../../tools/dataTools.py:98: UserWarning: Dropping the trials with the following IDs because of invalid time indexing. For more information, try warn_per_trial=True\n",
      "\n",
      "        [706]\n",
      "  df_ = pyal.restrict_to_interval(df, epoch_fun=epoch) if epoch is not None else df\n"
     ]
    },
    {
     "data": {
      "text/plain": [
       "(264, 134, 10)"
      ]
     },
     "execution_count": 46,
     "metadata": {},
     "output_type": "execute_result"
    }
   ],
   "source": [
    "arr = dt.get_data_array(\n",
    "    data_list=[pyal.select_trials(df, df.trial_name == 'trial')],\n",
    "    area='MOp',\n",
    "    epoch=Params.perturb_epoch_long\n",
    ")\n",
    "n_sessions, n_targets, n_trials, n_time, n_comp = arr.shape\n",
    "data = arr.reshape((n_targets*n_trials, n_time, n_comp))\n",
    "data.shape\n",
    "\n",
    "def get_data_from_df(df):\n",
    "        arr = dt.get_data_array(\n",
    "        data_list=[pyal.select_trials(df, df.trial_name == 'trial')],\n",
    "        area='MOp',\n",
    "        epoch=Params.perturb_epoch_long\n",
    "    )\n",
    "    n_sessions, n_targets, n_trials, n_time, n_comp = arr.shape\n",
    "    data = arr.reshape((n_targets*n_trials, n_time, n_comp))\n",
    "    return data"
   ]
  },
  {
   "cell_type": "code",
   "execution_count": 28,
   "id": "36db91c1",
   "metadata": {},
   "outputs": [],
   "source": [
    "df_trials = pyal.select_trials(df, df.trial_name == 'trial').iloc[:-1]\n",
    "# kinematics = np.concatenate()"
   ]
  },
  {
   "cell_type": "code",
   "execution_count": 32,
   "id": "644b9162",
   "metadata": {},
   "outputs": [],
   "source": [
    "angles = []\n",
    "for col in df_trials.columns:\n",
    "    if col.endswith(\"angle\"):\n",
    "        angles.append(df_trials[f'{col}'].values)\n",
    "angles = np.array(angles)"
   ]
  },
  {
   "cell_type": "code",
   "execution_count": 34,
   "id": "c0a1cac1",
   "metadata": {},
   "outputs": [
    {
     "data": {
      "text/plain": [
       "352"
      ]
     },
     "execution_count": 34,
     "metadata": {},
     "output_type": "execute_result"
    }
   ],
   "source": [
    "len(df_trials)"
   ]
  },
  {
   "cell_type": "code",
   "execution_count": 35,
   "id": "4ae5adb8",
   "metadata": {},
   "outputs": [
    {
     "data": {
      "text/plain": [
       "353"
      ]
     },
     "execution_count": 35,
     "metadata": {},
     "output_type": "execute_result"
    }
   ],
   "source": [
    "len(pyal.select_trials(df, df.trial_name == 'trial'))"
   ]
  },
  {
   "cell_type": "code",
   "execution_count": 22,
   "id": "ce4a685f",
   "metadata": {},
   "outputs": [
    {
     "name": "stdout",
     "output_type": "stream",
     "text": [
      "Train indices: (211,)\n",
      "Test indices: (53,)\n"
     ]
    }
   ],
   "source": [
    "from sklearn.model_selection import KFold\n",
    "\n",
    "\n",
    "kf = KFold(n_splits=5, shuffle=False)\n",
    "\n",
    "# Get indices for the first fold\n",
    "for train_idx, test_idx in kf.split(data):\n",
    "    print(\"Train indices:\", train_idx.shape)\n",
    "    print(\"Test indices:\", test_idx.shape)\n",
    "    break  # just show the first fold"
   ]
  },
  {
   "cell_type": "code",
   "execution_count": null,
   "id": "c2d66484",
   "metadata": {},
   "outputs": [],
   "source": [
    "# Using the first fold\n",
    "train_data, train_labels = data[train_idx], labels[train_idx]\n",
    "test_data, test_labels = data[test_idx], labels[test_idx]\n",
    "\n",
    "# Create datasets\n",
    "train_dataset = TrialDataset(train_data, train_labels)\n",
    "test_dataset = TrialDataset(test_data, test_label"
   ]
  }
 ],
 "metadata": {
  "kernelspec": {
   "display_name": "earthquake-analysis-Z8riI-lB-py3.12",
   "language": "python",
   "name": "python3"
  },
  "language_info": {
   "codemirror_mode": {
    "name": "ipython",
    "version": 3
   },
   "file_extension": ".py",
   "mimetype": "text/x-python",
   "name": "python",
   "nbconvert_exporter": "python",
   "pygments_lexer": "ipython3",
   "version": "3.12.8"
  }
 },
 "nbformat": 4,
 "nbformat_minor": 5
}
