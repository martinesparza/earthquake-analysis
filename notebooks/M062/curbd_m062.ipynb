{
 "cells": [
  {
   "cell_type": "markdown",
   "id": "de2b3a46",
   "metadata": {},
   "source": [
    "## Testing gpu-acelerated curbd on our data"
   ]
  },
  {
   "cell_type": "code",
   "execution_count": 1,
   "id": "0dbd20ab",
   "metadata": {},
   "outputs": [],
   "source": [
    "%load_ext autoreload\n",
    "%autoreload 2\n",
    "\n",
    "import os\n",
    "import sys\n",
    "sys.path.append(\"../../\")\n",
    "\n",
    "import pyaldata as pyal\n",
    "import pandas as pd\n",
    "import numpy as np\n",
    "import matplotlib.pyplot as plt \n",
    "import seaborn as sns\n",
    "\n",
    "from tools.reports.report_initial import run_initial_report\n",
    "from tools.params import Params, colors\n",
    "from tools.dsp.preprocessing import preprocess\n",
    "import tools.viz.mean_firing as firing\n",
    "import tools.viz.dimensionality as dim\n",
    "import tools.viz.utilityTools as vizutils\n",
    "import tools.decoding.rrr as rrr\n",
    "import tools.decoding.decodeTools as decutils\n",
    "import tools.dataTools as dt\n",
    "from tools.curbd import curbd_gpu_v2\n",
    "import cupy as cp"
   ]
  },
  {
   "cell_type": "markdown",
   "id": "f8410788",
   "metadata": {},
   "source": [
    "# 20th of March"
   ]
  },
  {
   "cell_type": "code",
   "execution_count": 2,
   "id": "4dc1882d",
   "metadata": {},
   "outputs": [
    {
     "name": "stdout",
     "output_type": "stream",
     "text": [
      "field values_before_camera_trigger could not be converted to int.\n",
      "field idx_before_camera_trigger could not be converted to int.\n",
      "array field VAL_KSLabel could not be converted to int.\n",
      "array field SSp_KSLabel could not be converted to int.\n",
      "array field all_KSLabel could not be converted to int.\n",
      "array field MOp_KSLabel could not be converted to int.\n",
      "array field CP_KSLabel could not be converted to int.\n",
      "field values_Sol_direction could not be converted to int.\n",
      "field idx_Sol_direction could not be converted to int.\n",
      "field values_Sol_duration could not be converted to int.\n",
      "field idx_Sol_duration could not be converted to int.\n",
      "field idx_sol_on could not be converted to int.\n",
      "array field VAL_KSLabel could not be converted to int.\n",
      "array field SSp_KSLabel could not be converted to int.\n",
      "array field all_KSLabel could not be converted to int.\n",
      "array field MOp_KSLabel could not be converted to int.\n",
      "array field CP_KSLabel could not be converted to int.\n",
      "array field VAL_KSLabel could not be converted to int.\n",
      "array field SSp_KSLabel could not be converted to int.\n",
      "array field all_KSLabel could not be converted to int.\n",
      "array field MOp_KSLabel could not be converted to int.\n",
      "array field CP_KSLabel could not be converted to int.\n"
     ]
    }
   ],
   "source": [
    "# Files \n",
    "session = 'M062_2025_03_20_14_00'\n",
    "data_dir = f\"/data/bnd-data/raw/M062/{session}\"\n",
    "\n",
    "areas=[\"MOp\", \"SSp\", \"CP\", \"VAL\"]\n",
    "df = pyal.load_pyaldata(data_dir)"
   ]
  },
  {
   "cell_type": "code",
   "execution_count": 3,
   "id": "d97cc040",
   "metadata": {},
   "outputs": [
    {
     "name": "stdout",
     "output_type": "stream",
     "text": [
      "Repairing columns ['MotSen1_X', 'MotSen1_Y']\n",
      "Extending index to 47989 in trial: free and id: 711, inserting NaN.\n",
      "Extending index to 47990 in trial: free and id: 711, inserting NaN.\n",
      "Extending index to 47991 in trial: free and id: 711, inserting NaN.\n",
      "Extending index to 47992 in trial: free and id: 711, inserting NaN.\n",
      "Extending index to 47993 in trial: free and id: 711, inserting NaN.\n",
      "Extending index to 47994 in trial: free and id: 711, inserting NaN.\n",
      "Extending index to 47995 in trial: free and id: 711, inserting NaN.\n",
      "Extending index to 47996 in trial: free and id: 711, inserting NaN.\n",
      "Extending index to 47997 in trial: free and id: 711, inserting NaN.\n",
      "Extending index to 47998 in trial: free and id: 711, inserting NaN.\n",
      "Extending index to 47999 in trial: free and id: 711, inserting NaN.\n",
      "Extending index to 47989 in trial: free and id: 711, inserting NaN.\n",
      "Extending index to 47990 in trial: free and id: 711, inserting NaN.\n",
      "Extending index to 47991 in trial: free and id: 711, inserting NaN.\n",
      "Extending index to 47992 in trial: free and id: 711, inserting NaN.\n",
      "Extending index to 47993 in trial: free and id: 711, inserting NaN.\n",
      "Extending index to 47994 in trial: free and id: 711, inserting NaN.\n",
      "Extending index to 47995 in trial: free and id: 711, inserting NaN.\n",
      "Extending index to 47996 in trial: free and id: 711, inserting NaN.\n",
      "Extending index to 47997 in trial: free and id: 711, inserting NaN.\n",
      "Extending index to 47998 in trial: free and id: 711, inserting NaN.\n",
      "Extending index to 47999 in trial: free and id: 711, inserting NaN.\n"
     ]
    },
    {
     "name": "stderr",
     "output_type": "stream",
     "text": [
      "/home/me24/.cache/pypoetry/virtualenvs/earthquake-analysis-Z8riI-lB-py3.12/src/PyalData/pyaldata/firing_rates.py:108: UserWarning: Assuming spikes are actually spikes and dividing by bin size.\n",
      "  utils.warnings.warn(\n",
      "/home/me24/.cache/pypoetry/virtualenvs/earthquake-analysis-Z8riI-lB-py3.12/src/PyalData/pyaldata/firing_rates.py:108: UserWarning: Assuming spikes are actually spikes and dividing by bin size.\n",
      "  utils.warnings.warn(\n",
      "/home/me24/.cache/pypoetry/virtualenvs/earthquake-analysis-Z8riI-lB-py3.12/src/PyalData/pyaldata/firing_rates.py:108: UserWarning: Assuming spikes are actually spikes and dividing by bin size.\n",
      "  utils.warnings.warn(\n",
      "/home/me24/.cache/pypoetry/virtualenvs/earthquake-analysis-Z8riI-lB-py3.12/src/PyalData/pyaldata/firing_rates.py:108: UserWarning: Assuming spikes are actually spikes and dividing by bin size.\n",
      "  utils.warnings.warn(\n",
      "/home/me24/.cache/pypoetry/virtualenvs/earthquake-analysis-Z8riI-lB-py3.12/src/PyalData/pyaldata/firing_rates.py:108: UserWarning: Assuming spikes are actually spikes and dividing by bin size.\n",
      "  utils.warnings.warn(\n"
     ]
    },
    {
     "name": "stdout",
     "output_type": "stream",
     "text": [
      "Combined every 3 bins\n",
      "Resulting VAL_spikes ephys data shape is (NxT): (155, 16000)\n",
      "Resulting SSp_spikes ephys data shape is (NxT): (118, 16000)\n",
      "Resulting all_spikes ephys data shape is (NxT): (34, 16000)\n",
      "Resulting MOp_spikes ephys data shape is (NxT): (163, 16000)\n",
      "Resulting CP_spikes ephys data shape is (NxT): (356, 16000)\n"
     ]
    }
   ],
   "source": [
    "df_ = preprocess(df, only_trials=False, repair_time_varying_fields=['MotSen1_X', 'MotSen1_Y'])"
   ]
  },
  {
   "cell_type": "markdown",
   "id": "b3e5cb52",
   "metadata": {},
   "source": [
    "### Get trials"
   ]
  },
  {
   "cell_type": "code",
   "execution_count": 15,
   "id": "f50174bf",
   "metadata": {},
   "outputs": [
    {
     "data": {
      "text/plain": [
       "(12, 792, 6400)"
      ]
     },
     "execution_count": 15,
     "metadata": {},
     "output_type": "execute_result"
    }
   ],
   "source": [
    "activity_ = []\n",
    "for sol_dir in range(12):\n",
    "    df_trials = pyal.select_trials(df_, df_.values_Sol_direction == 1)\n",
    "    df_trials = df_trials.iloc[:-1] \n",
    "    trial_length = df_trials.MOp_rates.values[0].shape[0]\n",
    "\n",
    "    activity = []\n",
    "    neurons = []\n",
    "    for area in areas:\n",
    "        neurons.append(df_trials[f\"{area}_rates\"][0].shape[-1])\n",
    "        activity.append(pyal.concat_trials(df_trials, f\"{area}_rates\").T)\n",
    "\n",
    "    # Activity\n",
    "    activity = np.concatenate(activity)\n",
    "    activity_.append(activity[np.newaxis, :, :])\n",
    "\n",
    "activity_ = np.concatenate(activity_)\n",
    "\n",
    "# Regions\n",
    "regions = []\n",
    "\n",
    "start_idx = 0\n",
    "for area, size in zip(areas, neurons):\n",
    "    regions.append([area, np.arange(start_idx, start_idx + size)])\n",
    "    start_idx += size  # Update the starting index for the next region\n",
    "\n",
    "activity_.shape"
   ]
  },
  {
   "cell_type": "code",
   "execution_count": 12,
   "id": "fb45b697",
   "metadata": {},
   "outputs": [
    {
     "data": {
      "text/plain": [
       "(32, 792, 200)"
      ]
     },
     "execution_count": 12,
     "metadata": {},
     "output_type": "execute_result"
    }
   ],
   "source": [
    "# Reshape\n",
    "activity = activity.reshape(activity.shape[0], activity.shape[1] // trial_length, trial_length)  # Shape (N, M, tr)\n",
    "activity = activity.transpose(1, 0, 2)  # Shape (M, N, T)\n",
    "activity = activity[:50, :, :]\n",
    "\n",
    "activity.shape"
   ]
  },
  {
   "cell_type": "markdown",
   "id": "218cc5b3",
   "metadata": {},
   "source": [
    "### Train gpu curbd"
   ]
  },
  {
   "cell_type": "code",
   "execution_count": 10,
   "id": "1311afdd",
   "metadata": {},
   "outputs": [
    {
     "name": "stdout",
     "output_type": "stream",
     "text": [
      "0\n",
      "0\n",
      "0\n",
      "400\n",
      "512\n",
      "512\n",
      "0\n"
     ]
    }
   ],
   "source": [
    "mempool = cp.get_default_memory_pool()\n",
    "pinned_mempool = cp.get_default_pinned_memory_pool()\n",
    "\n",
    "\n",
    "mempool.free_all_blocks()\n",
    "pinned_mempool.free_all_blocks()\n",
    "print(mempool.used_bytes())              # 0\n",
    "print(mempool.total_bytes())             # 0\n",
    "print(pinned_mempool.n_free_blocks())    # 0\n",
    "\n",
    "a_cpu = np.ndarray(100, dtype=np.float32)\n",
    "\n",
    "a = cp.array(a_cpu)\n",
    "print(a.nbytes)                          # 400\n",
    "print(mempool.used_bytes())              # 512\n",
    "print(mempool.total_bytes())             # 512\n",
    "print(pinned_mempool.n_free_blocks())    # 1"
   ]
  },
  {
   "cell_type": "code",
   "execution_count": 12,
   "id": "5ca330e2",
   "metadata": {},
   "outputs": [
    {
     "name": "stdout",
     "output_type": "stream",
     "text": [
      "0\n",
      "512\n",
      "0\n"
     ]
    }
   ],
   "source": [
    "# When the array goes out of scope, the allocated device memory is released\n",
    "# and kept in the pool for future reuse.\n",
    "a = None  # (or `del a`)\n",
    "print(mempool.used_bytes())              # 0\n",
    "print(mempool.total_bytes())             # 512\n",
    "print(pinned_mempool.n_free_blocks())    # 1\n"
   ]
  },
  {
   "cell_type": "code",
   "execution_count": 21,
   "id": "65716c5d",
   "metadata": {},
   "outputs": [
    {
     "name": "stdout",
     "output_type": "stream",
     "text": [
      "20275200\n",
      "20275200\n",
      "0\n"
     ]
    }
   ],
   "source": [
    "# You can clear the memory pool by calling `free_all_blocks`.\n",
    "mempool.free_all_blocks()\n",
    "pinned_mempool.free_all_blocks()\n",
    "print(mempool.used_bytes())              # 0\n",
    "print(mempool.total_bytes())             # 0\n",
    "print(pinned_mempool.n_free_blocks())    # 0"
   ]
  },
  {
   "cell_type": "code",
   "execution_count": 39,
   "id": "eb9e13a3",
   "metadata": {},
   "outputs": [
    {
     "data": {
      "text/plain": [
       "(12, 792, 6400)"
      ]
     },
     "execution_count": 39,
     "metadata": {},
     "output_type": "execute_result"
    }
   ],
   "source": [
    "activity_.shape"
   ]
  },
  {
   "cell_type": "code",
   "execution_count": 49,
   "id": "b0a98707",
   "metadata": {},
   "outputs": [
    {
     "name": "stdout",
     "output_type": "stream",
     "text": [
      "trial=0 pVar=-4.253386 chi2=30.401431\n"
     ]
    }
   ],
   "source": [
    "# %%time\n",
    "\n",
    "gcurbd = curbd_gpu_v2.gCURBD(\n",
    "    dt_data=df_.bin_size[0],\n",
    "    dt_factor=3,\n",
    "    regions=regions,\n",
    "    train_epochs=1\n",
    ")\n",
    "\n",
    "gcurbd.fit(activity_)\n"
   ]
  },
  {
   "cell_type": "code",
   "execution_count": 50,
   "id": "d2095bad",
   "metadata": {},
   "outputs": [],
   "source": [
    "del gcurbd"
   ]
  },
  {
   "cell_type": "code",
   "execution_count": 51,
   "id": "ca6d738c",
   "metadata": {},
   "outputs": [
    {
     "name": "stdout",
     "output_type": "stream",
     "text": [
      "3178173952\n",
      "8879664128\n",
      "0\n"
     ]
    }
   ],
   "source": [
    "print(mempool.used_bytes())              # 0\n",
    "print(mempool.total_bytes())             # 512\n",
    "print(pinned_mempool.n_free_blocks())    # 1"
   ]
  },
  {
   "cell_type": "code",
   "execution_count": 52,
   "id": "70bdb243",
   "metadata": {},
   "outputs": [
    {
     "name": "stdout",
     "output_type": "stream",
     "text": [
      "3178173952\n",
      "4500677120\n",
      "0\n"
     ]
    }
   ],
   "source": [
    "# You can clear the memory pool by calling `free_all_blocks`.\n",
    "mempool.free_all_blocks()\n",
    "pinned_mempool.free_all_blocks()\n",
    "print(mempool.used_bytes())              # 0\n",
    "print(mempool.total_bytes())             # 0\n",
    "print(pinned_mempool.n_free_blocks())    # 0"
   ]
  },
  {
   "cell_type": "code",
   "execution_count": 38,
   "id": "c7df6fbc",
   "metadata": {},
   "outputs": [
    {
     "name": "stdout",
     "output_type": "stream",
     "text": [
      "trial=0 pVar=-85.629713 chi2=6370.406681\n",
      "trial=1 pVar=-87.474960 chi2=6506.087903\n",
      "trial=2 pVar=-87.477044 chi2=6506.241147\n"
     ]
    },
    {
     "ename": "KeyboardInterrupt",
     "evalue": "",
     "output_type": "error",
     "traceback": [
      "\u001b[0;31m---------------------------------------------------------------------------\u001b[0m",
      "\u001b[0;31mKeyboardInterrupt\u001b[0m                         Traceback (most recent call last)",
      "Cell \u001b[0;32mIn[38], line 4\u001b[0m\n\u001b[1;32m      1\u001b[0m \u001b[38;5;28;01mfrom\u001b[39;00m \u001b[38;5;21;01mtools\u001b[39;00m\u001b[38;5;21;01m.\u001b[39;00m\u001b[38;5;21;01mcurbd\u001b[39;00m \u001b[38;5;28;01mimport\u001b[39;00m curbd\n\u001b[0;32m----> 4\u001b[0m model \u001b[38;5;241m=\u001b[39m \u001b[43mcurbd\u001b[49m\u001b[38;5;241;43m.\u001b[39;49m\u001b[43mtrainMultiRegionRNN\u001b[49m\u001b[43m(\u001b[49m\u001b[43mnp\u001b[49m\u001b[38;5;241;43m.\u001b[39;49m\u001b[43msqueeze\u001b[49m\u001b[43m(\u001b[49m\u001b[43mactivity_\u001b[49m\u001b[43m[\u001b[49m\u001b[43m:\u001b[49m\u001b[38;5;241;43m1\u001b[39;49m\u001b[43m,\u001b[49m\u001b[43m \u001b[49m\u001b[43m:\u001b[49m\u001b[43m,\u001b[49m\u001b[43m \u001b[49m\u001b[43m:\u001b[49m\u001b[43m]\u001b[49m\u001b[43m)\u001b[49m\u001b[43m,\u001b[49m\n\u001b[1;32m      5\u001b[0m \u001b[43m                                  \u001b[49m\u001b[43mdtData\u001b[49m\u001b[38;5;241;43m=\u001b[39;49m\u001b[43mdf_\u001b[49m\u001b[38;5;241;43m.\u001b[39;49m\u001b[43mbin_size\u001b[49m\u001b[43m[\u001b[49m\u001b[38;5;241;43m0\u001b[39;49m\u001b[43m]\u001b[49m\u001b[43m,\u001b[49m\n\u001b[1;32m      6\u001b[0m \u001b[43m                                  \u001b[49m\u001b[43mdtFactor\u001b[49m\u001b[38;5;241;43m=\u001b[39;49m\u001b[38;5;241;43m5\u001b[39;49m\u001b[43m,\u001b[49m\n\u001b[1;32m      7\u001b[0m \u001b[43m                                  \u001b[49m\u001b[43mregions\u001b[49m\u001b[38;5;241;43m=\u001b[39;49m\u001b[43mregions\u001b[49m\u001b[43m,\u001b[49m\n\u001b[1;32m      8\u001b[0m \u001b[43m                                  \u001b[49m\u001b[43mnRunTrain\u001b[49m\u001b[38;5;241;43m=\u001b[39;49m\u001b[38;5;241;43m5\u001b[39;49m\u001b[43m,\u001b[49m\n\u001b[1;32m      9\u001b[0m \u001b[43m                                  \u001b[49m\u001b[43mverbose\u001b[49m\u001b[38;5;241;43m=\u001b[39;49m\u001b[38;5;28;43;01mTrue\u001b[39;49;00m\u001b[43m,\u001b[49m\n\u001b[1;32m     10\u001b[0m \u001b[43m                                  \u001b[49m\u001b[43mnRunFree\u001b[49m\u001b[38;5;241;43m=\u001b[39;49m\u001b[38;5;241;43m5\u001b[39;49m\u001b[43m,\u001b[49m\n\u001b[1;32m     11\u001b[0m \u001b[43m                                  \u001b[49m\u001b[43mplotStatus\u001b[49m\u001b[38;5;241;43m=\u001b[39;49m\u001b[38;5;28;43;01mFalse\u001b[39;49;00m\u001b[43m)\u001b[49m\n\u001b[1;32m     14\u001b[0m \u001b[38;5;66;03m# [curbd_arr, curbd_labels] = curbd.computeCURBD(model)\u001b[39;00m\n",
      "File \u001b[0;32m~/repos/earthquake-analysis/notebooks/M062/../../tools/curbd/curbd.py:201\u001b[0m, in \u001b[0;36mtrainMultiRegionRNN\u001b[0;34m(activity, dtData, dtFactor, g, tauRNN, tauWN, ampInWN, nRunTrain, nRunFree, P0, nonLinearity, nonLinearity_inv, resetPoints, plotStatus, verbose, regions)\u001b[0m\n\u001b[1;32m    197\u001b[0m             c \u001b[38;5;241m=\u001b[39m \u001b[38;5;241m1.0\u001b[39m \u001b[38;5;241m/\u001b[39m (\u001b[38;5;241m1.0\u001b[39m \u001b[38;5;241m+\u001b[39m rPr)\n\u001b[1;32m    198\u001b[0m             PJ \u001b[38;5;241m=\u001b[39m PJ \u001b[38;5;241m-\u001b[39m c \u001b[38;5;241m*\u001b[39m (k\u001b[38;5;241m.\u001b[39mdot(k\u001b[38;5;241m.\u001b[39mT))\n\u001b[1;32m    199\u001b[0m             J[:, iTarget\u001b[38;5;241m.\u001b[39mflatten()] \u001b[38;5;241m=\u001b[39m J[\n\u001b[1;32m    200\u001b[0m                 :, iTarget\u001b[38;5;241m.\u001b[39mreshape((number_units))\n\u001b[0;32m--> 201\u001b[0m             ] \u001b[38;5;241m-\u001b[39m c \u001b[38;5;241m*\u001b[39m \u001b[43mnp\u001b[49m\u001b[38;5;241;43m.\u001b[39;49m\u001b[43mouter\u001b[49m\u001b[43m(\u001b[49m\u001b[43merr\u001b[49m\u001b[38;5;241;43m.\u001b[39;49m\u001b[43mflatten\u001b[49m\u001b[43m(\u001b[49m\u001b[43m)\u001b[49m\u001b[43m,\u001b[49m\u001b[43m \u001b[49m\u001b[43mk\u001b[49m\u001b[38;5;241;43m.\u001b[39;49m\u001b[43mflatten\u001b[49m\u001b[43m(\u001b[49m\u001b[43m)\u001b[49m\u001b[43m)\u001b[49m\n\u001b[1;32m    203\u001b[0m \u001b[38;5;66;03m################################### Compute metrics #########################################\u001b[39;00m\n\u001b[1;32m    205\u001b[0m rModelSample \u001b[38;5;241m=\u001b[39m RNN[iTarget, :][:, iModelSample]\n",
      "File \u001b[0;32m~/.cache/pypoetry/virtualenvs/earthquake-analysis-Z8riI-lB-py3.12/lib/python3.12/site-packages/numpy/core/numeric.py:925\u001b[0m, in \u001b[0;36mouter\u001b[0;34m(a, b, out)\u001b[0m\n\u001b[1;32m    923\u001b[0m a \u001b[38;5;241m=\u001b[39m asarray(a)\n\u001b[1;32m    924\u001b[0m b \u001b[38;5;241m=\u001b[39m asarray(b)\n\u001b[0;32m--> 925\u001b[0m \u001b[38;5;28;01mreturn\u001b[39;00m \u001b[43mmultiply\u001b[49m\u001b[43m(\u001b[49m\u001b[43ma\u001b[49m\u001b[38;5;241;43m.\u001b[39;49m\u001b[43mravel\u001b[49m\u001b[43m(\u001b[49m\u001b[43m)\u001b[49m\u001b[43m[\u001b[49m\u001b[43m:\u001b[49m\u001b[43m,\u001b[49m\u001b[43m \u001b[49m\u001b[43mnewaxis\u001b[49m\u001b[43m]\u001b[49m\u001b[43m,\u001b[49m\u001b[43m \u001b[49m\u001b[43mb\u001b[49m\u001b[38;5;241;43m.\u001b[39;49m\u001b[43mravel\u001b[49m\u001b[43m(\u001b[49m\u001b[43m)\u001b[49m\u001b[43m[\u001b[49m\u001b[43mnewaxis\u001b[49m\u001b[43m,\u001b[49m\u001b[43m \u001b[49m\u001b[43m:\u001b[49m\u001b[43m]\u001b[49m\u001b[43m,\u001b[49m\u001b[43m \u001b[49m\u001b[43mout\u001b[49m\u001b[43m)\u001b[49m\n",
      "\u001b[0;31mKeyboardInterrupt\u001b[0m: "
     ]
    }
   ],
   "source": [
    "\n",
    "from tools.curbd import curbd\n",
    "\n",
    "\n",
    "model = curbd.trainMultiRegionRNN(np.squeeze(activity_[:1, :, :]),\n",
    "                                  dtData=df_.bin_size[0],\n",
    "                                  dtFactor=5,\n",
    "                                  regions=regions,\n",
    "                                  nRunTrain=5,\n",
    "                                  verbose=True,\n",
    "                                  nRunFree=5,\n",
    "                                  plotStatus=False)\n",
    "\n",
    "\n",
    "# [curbd_arr, curbd_labels] = curbd.computeCURBD(model)"
   ]
  }
 ],
 "metadata": {
  "kernelspec": {
   "display_name": "earthquake-analysis-Z8riI-lB-py3.12",
   "language": "python",
   "name": "python3"
  },
  "language_info": {
   "codemirror_mode": {
    "name": "ipython",
    "version": 3
   },
   "file_extension": ".py",
   "mimetype": "text/x-python",
   "name": "python",
   "nbconvert_exporter": "python",
   "pygments_lexer": "ipython3",
   "version": "3.12.8"
  }
 },
 "nbformat": 4,
 "nbformat_minor": 5
}
